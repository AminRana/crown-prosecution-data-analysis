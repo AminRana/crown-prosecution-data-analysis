{
 "cells": [
  {
   "cell_type": "code",
   "execution_count": 1,
   "id": "6d2e1d4c",
   "metadata": {},
   "outputs": [
    {
     "ename": "ERROR",
     "evalue": "Error in install.packages(\"readr\", type = \"binary\"): type 'binary' is not supported on this platform\n",
     "output_type": "error",
     "traceback": [
      "Error in install.packages(\"readr\", type = \"binary\"): type 'binary' is not supported on this platform\nTraceback:\n",
      "1. install.packages(\"readr\", type = \"binary\")",
      "2. stop(\"type 'binary' is not supported on this platform\")"
     ]
    }
   ],
   "source": [
    "install.packages('readr', type=\"binary\")"
   ]
  },
  {
   "cell_type": "code",
   "execution_count": null,
   "id": "13ec3472",
   "metadata": {},
   "outputs": [],
   "source": [
    "library(readr)"
   ]
  },
  {
   "cell_type": "code",
   "execution_count": null,
   "id": "b55a50ca",
   "metadata": {},
   "outputs": [],
   "source": []
  }
 ],
 "metadata": {
  "kernelspec": {
   "display_name": "R",
   "language": "R",
   "name": "ir"
  },
  "language_info": {
   "codemirror_mode": "r",
   "file_extension": ".r",
   "mimetype": "text/x-r-source",
   "name": "R",
   "pygments_lexer": "r",
   "version": "3.6.1"
  }
 },
 "nbformat": 4,
 "nbformat_minor": 5
}
