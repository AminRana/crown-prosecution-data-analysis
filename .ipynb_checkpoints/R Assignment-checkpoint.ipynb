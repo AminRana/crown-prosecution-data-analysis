{
 "cells": [
  {
   "cell_type": "markdown",
   "id": "2294a9c8",
   "metadata": {},
   "source": [
    "Using the data analytics tools and techniques learnt from the lectures, you are required to apply different techniques related to descriptive and predictive analytics on the integrated dataset. \n",
    "\n",
    "You will also be required to develop a prediction model using one linear regression technique, one clustering technique and one classification technique. \n",
    "\n",
    "The assignment deliverables will consist of the following: \n",
    "\n",
    "001 - A report containing: \n",
    "\n",
    "      a. Definition of, at least, two different hypotheses based on the current dataset; \n",
    "\n",
    "      b. Explanation and justification for any cleaning/integration technique used in the dataset; \n",
    "\n",
    "      c. Analysis and interpretation of results using descriptive analytics; \n",
    "\n",
    "     d. Implementation of a prediction model using one linear regression technique, one clustering technique and one classification        technique; \n",
    "\n",
    "     e. Critical review of the data analytics tools and techniques used. You have to analyse the effectiveness of the techniques you have used, discuss alternative solutions and compare strengths and weaknesses between them; \n",
    "\n",
    "    f. Critical review of the visualisation tools used. You have to analyse the effectiveness of the visualisation tools you have used, discuss alternative solutions and compare strengths and weaknesses between them; \n",
    "\n",
    "   g. References and citations to support the analysis made in the report. \n",
    "\n",
    "\n",
    "\n",
    "002 - Uploaded to Moodle  containing\n",
    "\n",
    "   a.  R code supporting the report provided. The R code has to provide all the code used for cleaning, integrating, analysing, visualising and creating the models proposed and discussed in the report"
   ]
  },
  {
   "cell_type": "markdown",
   "id": "7db86953",
   "metadata": {},
   "source": [
    "```\n",
    "-- Dataset Merging and Preperation (Dataset Pre-processing)\n",
    "    -- Data Cleaning (Dataset Pre-processing)\n",
    "\n",
    "-- Data Exploration\n",
    "   -- Explore the in-consistent months\n",
    "   \n",
    "-- Descriptive Data Analytics\n",
    "    -- Data Sampling & Visualisation \n",
    "    \n",
    "-- Diagnostic Data Analytics\n",
    "    -- Covariance + Correlation\n",
    "    \n",
    "-- Predictive Data Analytics \n",
    "    (Linear Regression, Time Series, Classification, Clustering)\n",
    "\n",
    "-- Prescriptive Data Analytics\n",
    "```"
   ]
  },
  {
   "cell_type": "code",
   "execution_count": 269,
   "id": "412d20f8",
   "metadata": {},
   "outputs": [],
   "source": [
    "# install.packages('hash')\n",
    "# install.packages('tidyverse')\n",
    "# install.packages('zoo')\n",
    "# install.packages(\"skimr\")\n",
    "# install.packages(\"devtools\")\n",
    "# devtools::install_github(\"ropensci/visdat\")\n",
    "# install.packages(\"DataExplorer\")\n",
    "# install.packages(\"inspectdf\")\n",
    "# install.packages(\"ggcorrplot\")\n",
    "# install.packages(\"corrplot\")"
   ]
  },
  {
   "cell_type": "code",
   "execution_count": 270,
   "id": "2732022f",
   "metadata": {},
   "outputs": [],
   "source": [
    "library(readr)\n",
    "library(hash)\n",
    "library(tidyverse)\n",
    "library(data.table)\n",
    "library(zoo)\n",
    "library(dplyr)\n",
    "library(ggmap)\n",
    "library(skimr)\n",
    "library(devtools)\n",
    "library(visdat)\n",
    "library(DataExplorer)\n",
    "library(inspectdf)\n",
    "library(ggplot2)\n",
    "library(ggcorrplot)\n",
    "library(corrplot)"
   ]
  },
  {
   "cell_type": "markdown",
   "id": "80495bc3",
   "metadata": {},
   "source": [
    "# Dataset Integration"
   ]
  },
  {
   "cell_type": "code",
   "execution_count": 271,
   "id": "2f8db1d0",
   "metadata": {},
   "outputs": [],
   "source": [
    "get_all_files_from_directories <- function () {\n",
    "    files <- hash()\n",
    "\n",
    "    files[\"2014\"] <- list.files(\"dataset/2014\", pattern=\".csv\")\n",
    "    files[\"2015\"] <- list.files(\"dataset/2015\", pattern=\".csv\")\n",
    "    files[\"2016\"] <- list.files(\"dataset/2016\", pattern=\".csv\")\n",
    "    files[\"2017\"] <- list.files(\"dataset/2017\", pattern=\".csv\")\n",
    "    files[\"2018\"] <- list.files(\"dataset/2018\", pattern=\".csv\")\n",
    "  \n",
    "    return(files)\n",
    "}"
   ]
  },
  {
   "cell_type": "code",
   "execution_count": 272,
   "id": "22520b1a",
   "metadata": {
    "scrolled": false
   },
   "outputs": [
    {
     "data": {
      "text/plain": [
       "<hash> containing 5 key-value pair(s).\n",
       "  2014 : principal_offence_category_april_2014.csv     principal_offence_category_august_2014.csv    principal_offence_category_december_2014.csv  principal_offence_category_february_2014.csv  principal_offence_category_january_2014.csv   principal_offence_category_july_2014.csv      principal_offence_category_june_2014.csv      principal_offence_category_march_2014.csv     principal_offence_category_may_2014.csv       principal_offence_category_november_2014.csv  principal_offence_category_october_2014.csv   principal_offence_category_september_2014.csv\n",
       "  2015 : principal_offence_category_april_2015.csv     principal_offence_category_august_2015.csv    principal_offence_category_december_2015.csv  principal_offence_category_february_2015.csv  principal_offence_category_january_2015.csv   principal_offence_category_july_2015.csv      principal_offence_category_june_2015.csv      principal_offence_category_march_2015.csv     principal_offence_category_may_2015.csv       principal_offence_category_october_2015.csv   principal_offence_category_september_2015.csv\n",
       "  2016 : principal_offence_category_april_2016.csv     principal_offence_category_august_2016.csv    principal_offence_category_december_2016.csv  principal_offence_category_january_2016.csv   principal_offence_category_july_2016.csv      principal_offence_category_june_2016.csv      principal_offence_category_may_2016.csv       principal_offence_category_november_2016.csv  principal_offence_category_october_2016.csv   principal_offence_category_september_2016.csv\n",
       "  2017 : Principal_Offence_Category_Aug.csv           Principal_Offence_Category_Dec.csv           principal_offence_category_february_2017.csv principal_offence_category_january_2017.csv  Principal_Offence_Category_Jul.csv           principal_offence_category_march_2017.csv    Principal_Offence_Category_Nov.csv           Principal_Offence_Category_Oct.csv           Principal_Offence_Category_Sep.csv          \n",
       "  2018 : Principal_Offence_Category_Aug.csv Principal_Offence_Category_Dec.csv Principal_Offence_Category_Feb.csv Principal_Offence_Category_Jan.csv Principal_Offence_Category_Jul.csv Principal_Offence_Category_Mar.csv Principal_Offence_Category_Nov.csv Principal_Offence_Category_Oct.csv Principal_Offence_Category_Sep.csv"
      ]
     },
     "metadata": {},
     "output_type": "display_data"
    }
   ],
   "source": [
    "get_all_files_from_directories()"
   ]
  },
  {
   "cell_type": "code",
   "execution_count": 273,
   "id": "d8b4b41e",
   "metadata": {},
   "outputs": [],
   "source": [
    "merge_files <- function(hash) {\n",
    "    year <- names(hash)\n",
    "\n",
    "    combined_df <- do.call(rbind, lapply(year, function(y) {\n",
    "    do.call(rbind, lapply(hash[[y]], function(f) {\n",
    "        f_name <- paste(\"dataset/\", y, \"/\", f, sep=\"\")\n",
    "            df <- read.csv(f_name, stringsAsFactors = FALSE)\n",
    "            df$year <- y\n",
    "            df$month <- tolower(gsub(\".csv\", \"\", as.list(strsplit(f, \"_\")[[1]])[4]))\n",
    "            df\n",
    "    }))\n",
    "  }))\n",
    "  return(combined_df)\n",
    "}"
   ]
  },
  {
   "cell_type": "code",
   "execution_count": 274,
   "id": "090f0459",
   "metadata": {},
   "outputs": [],
   "source": [
    "combined_df = merge_files(get_all_files_from_directories())"
   ]
  },
  {
   "cell_type": "code",
   "execution_count": 275,
   "id": "4caffd2b",
   "metadata": {
    "scrolled": false
   },
   "outputs": [
    {
     "data": {
      "text/html": [
       "<table class=\"dataframe\">\n",
       "<caption>A data.frame: 6 × 53</caption>\n",
       "<thead>\n",
       "\t<tr><th></th><th scope=col>X</th><th scope=col>Number.of.Homicide.Convictions</th><th scope=col>Percentage.of.Homicide.Convictions</th><th scope=col>Number.of.Homicide.Unsuccessful</th><th scope=col>Percentage.of.Homicide.Unsuccessful</th><th scope=col>Number.of.Offences.Against.The.Person.Convictions</th><th scope=col>Percentage.of.Offences.Against.The.Person.Convictions</th><th scope=col>Number.of.Offences.Against.The.Person.Unsuccessful</th><th scope=col>Percentage.of.Offences.Against.The.Person.Unsuccessful</th><th scope=col>Number.of.Sexual.Offences.Convictions</th><th scope=col>⋯</th><th scope=col>Number.of.All.Other.Offences..excluding.Motoring..Unsuccessful</th><th scope=col>Percentage.of.All.Other.Offences..excluding.Motoring..Unsuccessful</th><th scope=col>Number.of.Motoring.Offences.Convictions</th><th scope=col>Percentage.of.Motoring.Offences.Convictions</th><th scope=col>Number.of.Motoring.Offences.Unsuccessful</th><th scope=col>Percentage.of.Motoring.Offences.Unsuccessful</th><th scope=col>Number.of.Admin.Finalised.Unsuccessful</th><th scope=col>Percentage.of.L.Motoring.Offences.Unsuccessful</th><th scope=col>year</th><th scope=col>month</th></tr>\n",
       "\t<tr><th></th><th scope=col>&lt;chr&gt;</th><th scope=col>&lt;int&gt;</th><th scope=col>&lt;chr&gt;</th><th scope=col>&lt;int&gt;</th><th scope=col>&lt;chr&gt;</th><th scope=col>&lt;chr&gt;</th><th scope=col>&lt;chr&gt;</th><th scope=col>&lt;chr&gt;</th><th scope=col>&lt;chr&gt;</th><th scope=col>&lt;chr&gt;</th><th scope=col>⋯</th><th scope=col>&lt;int&gt;</th><th scope=col>&lt;chr&gt;</th><th scope=col>&lt;chr&gt;</th><th scope=col>&lt;chr&gt;</th><th scope=col>&lt;chr&gt;</th><th scope=col>&lt;chr&gt;</th><th scope=col>&lt;chr&gt;</th><th scope=col>&lt;chr&gt;</th><th scope=col>&lt;chr&gt;</th><th scope=col>&lt;chr&gt;</th></tr>\n",
       "</thead>\n",
       "<tbody>\n",
       "\t<tr><th scope=row>1</th><td>National         </td><td>81</td><td>85.3% </td><td>14</td><td>14.7%</td><td>7,805</td><td>74.1%</td><td>2,722</td><td>25.9%</td><td>698</td><td>⋯</td><td>513</td><td>16.3%</td><td>8,283</td><td>86.3%</td><td>1,314</td><td>13.7%</td><td>718</td><td>100.0%</td><td>2014</td><td>april</td></tr>\n",
       "\t<tr><th scope=row>2</th><td>Avon and Somerset</td><td> 1</td><td>100.0%</td><td> 0</td><td>0.0% </td><td>167  </td><td>78.8%</td><td>45   </td><td>21.2%</td><td>36 </td><td>⋯</td><td> 16</td><td>19.5%</td><td>188  </td><td>83.6%</td><td>37   </td><td>16.4%</td><td>24 </td><td>100.0%</td><td>2014</td><td>april</td></tr>\n",
       "\t<tr><th scope=row>3</th><td>Bedfordshire     </td><td> 0</td><td>-     </td><td> 0</td><td>-    </td><td>69   </td><td>75.0%</td><td>23   </td><td>25.0%</td><td>5  </td><td>⋯</td><td>  6</td><td>35.3%</td><td>40   </td><td>88.9%</td><td>5    </td><td>11.1%</td><td>16 </td><td>100.0%</td><td>2014</td><td>april</td></tr>\n",
       "\t<tr><th scope=row>4</th><td>Cambridgeshire   </td><td> 0</td><td>-     </td><td> 0</td><td>-    </td><td>99   </td><td>81.1%</td><td>23   </td><td>18.9%</td><td>6  </td><td>⋯</td><td>  2</td><td>25.0%</td><td>79   </td><td>92.9%</td><td>6    </td><td>7.1% </td><td>4  </td><td>100.0%</td><td>2014</td><td>april</td></tr>\n",
       "\t<tr><th scope=row>5</th><td>Cheshire         </td><td> 1</td><td>50.0% </td><td> 1</td><td>50.0%</td><td>140  </td><td>74.9%</td><td>47   </td><td>25.1%</td><td>17 </td><td>⋯</td><td>  6</td><td>10.7%</td><td>209  </td><td>94.6%</td><td>12   </td><td>5.4% </td><td>1  </td><td>100.0%</td><td>2014</td><td>april</td></tr>\n",
       "\t<tr><th scope=row>6</th><td>Cleveland        </td><td> 0</td><td>-     </td><td> 0</td><td>-    </td><td>85   </td><td>67.5%</td><td>41   </td><td>32.5%</td><td>11 </td><td>⋯</td><td>  5</td><td>15.2%</td><td>124  </td><td>87.9%</td><td>17   </td><td>12.1%</td><td>10 </td><td>100.0%</td><td>2014</td><td>april</td></tr>\n",
       "</tbody>\n",
       "</table>\n"
      ],
      "text/latex": [
       "A data.frame: 6 × 53\n",
       "\\begin{tabular}{r|lllllllllllllllllllll}\n",
       "  & X & Number.of.Homicide.Convictions & Percentage.of.Homicide.Convictions & Number.of.Homicide.Unsuccessful & Percentage.of.Homicide.Unsuccessful & Number.of.Offences.Against.The.Person.Convictions & Percentage.of.Offences.Against.The.Person.Convictions & Number.of.Offences.Against.The.Person.Unsuccessful & Percentage.of.Offences.Against.The.Person.Unsuccessful & Number.of.Sexual.Offences.Convictions & ⋯ & Number.of.All.Other.Offences..excluding.Motoring..Unsuccessful & Percentage.of.All.Other.Offences..excluding.Motoring..Unsuccessful & Number.of.Motoring.Offences.Convictions & Percentage.of.Motoring.Offences.Convictions & Number.of.Motoring.Offences.Unsuccessful & Percentage.of.Motoring.Offences.Unsuccessful & Number.of.Admin.Finalised.Unsuccessful & Percentage.of.L.Motoring.Offences.Unsuccessful & year & month\\\\\n",
       "  & <chr> & <int> & <chr> & <int> & <chr> & <chr> & <chr> & <chr> & <chr> & <chr> & ⋯ & <int> & <chr> & <chr> & <chr> & <chr> & <chr> & <chr> & <chr> & <chr> & <chr>\\\\\n",
       "\\hline\n",
       "\t1 & National          & 81 & 85.3\\%  & 14 & 14.7\\% & 7,805 & 74.1\\% & 2,722 & 25.9\\% & 698 & ⋯ & 513 & 16.3\\% & 8,283 & 86.3\\% & 1,314 & 13.7\\% & 718 & 100.0\\% & 2014 & april\\\\\n",
       "\t2 & Avon and Somerset &  1 & 100.0\\% &  0 & 0.0\\%  & 167   & 78.8\\% & 45    & 21.2\\% & 36  & ⋯ &  16 & 19.5\\% & 188   & 83.6\\% & 37    & 16.4\\% & 24  & 100.0\\% & 2014 & april\\\\\n",
       "\t3 & Bedfordshire      &  0 & -      &  0 & -     & 69    & 75.0\\% & 23    & 25.0\\% & 5   & ⋯ &   6 & 35.3\\% & 40    & 88.9\\% & 5     & 11.1\\% & 16  & 100.0\\% & 2014 & april\\\\\n",
       "\t4 & Cambridgeshire    &  0 & -      &  0 & -     & 99    & 81.1\\% & 23    & 18.9\\% & 6   & ⋯ &   2 & 25.0\\% & 79    & 92.9\\% & 6     & 7.1\\%  & 4   & 100.0\\% & 2014 & april\\\\\n",
       "\t5 & Cheshire          &  1 & 50.0\\%  &  1 & 50.0\\% & 140   & 74.9\\% & 47    & 25.1\\% & 17  & ⋯ &   6 & 10.7\\% & 209   & 94.6\\% & 12    & 5.4\\%  & 1   & 100.0\\% & 2014 & april\\\\\n",
       "\t6 & Cleveland         &  0 & -      &  0 & -     & 85    & 67.5\\% & 41    & 32.5\\% & 11  & ⋯ &   5 & 15.2\\% & 124   & 87.9\\% & 17    & 12.1\\% & 10  & 100.0\\% & 2014 & april\\\\\n",
       "\\end{tabular}\n"
      ],
      "text/markdown": [
       "\n",
       "A data.frame: 6 × 53\n",
       "\n",
       "| <!--/--> | X &lt;chr&gt; | Number.of.Homicide.Convictions &lt;int&gt; | Percentage.of.Homicide.Convictions &lt;chr&gt; | Number.of.Homicide.Unsuccessful &lt;int&gt; | Percentage.of.Homicide.Unsuccessful &lt;chr&gt; | Number.of.Offences.Against.The.Person.Convictions &lt;chr&gt; | Percentage.of.Offences.Against.The.Person.Convictions &lt;chr&gt; | Number.of.Offences.Against.The.Person.Unsuccessful &lt;chr&gt; | Percentage.of.Offences.Against.The.Person.Unsuccessful &lt;chr&gt; | Number.of.Sexual.Offences.Convictions &lt;chr&gt; | ⋯ ⋯ | Number.of.All.Other.Offences..excluding.Motoring..Unsuccessful &lt;int&gt; | Percentage.of.All.Other.Offences..excluding.Motoring..Unsuccessful &lt;chr&gt; | Number.of.Motoring.Offences.Convictions &lt;chr&gt; | Percentage.of.Motoring.Offences.Convictions &lt;chr&gt; | Number.of.Motoring.Offences.Unsuccessful &lt;chr&gt; | Percentage.of.Motoring.Offences.Unsuccessful &lt;chr&gt; | Number.of.Admin.Finalised.Unsuccessful &lt;chr&gt; | Percentage.of.L.Motoring.Offences.Unsuccessful &lt;chr&gt; | year &lt;chr&gt; | month &lt;chr&gt; |\n",
       "|---|---|---|---|---|---|---|---|---|---|---|---|---|---|---|---|---|---|---|---|---|---|\n",
       "| 1 | National          | 81 | 85.3%  | 14 | 14.7% | 7,805 | 74.1% | 2,722 | 25.9% | 698 | ⋯ | 513 | 16.3% | 8,283 | 86.3% | 1,314 | 13.7% | 718 | 100.0% | 2014 | april |\n",
       "| 2 | Avon and Somerset |  1 | 100.0% |  0 | 0.0%  | 167   | 78.8% | 45    | 21.2% | 36  | ⋯ |  16 | 19.5% | 188   | 83.6% | 37    | 16.4% | 24  | 100.0% | 2014 | april |\n",
       "| 3 | Bedfordshire      |  0 | -      |  0 | -     | 69    | 75.0% | 23    | 25.0% | 5   | ⋯ |   6 | 35.3% | 40    | 88.9% | 5     | 11.1% | 16  | 100.0% | 2014 | april |\n",
       "| 4 | Cambridgeshire    |  0 | -      |  0 | -     | 99    | 81.1% | 23    | 18.9% | 6   | ⋯ |   2 | 25.0% | 79    | 92.9% | 6     | 7.1%  | 4   | 100.0% | 2014 | april |\n",
       "| 5 | Cheshire          |  1 | 50.0%  |  1 | 50.0% | 140   | 74.9% | 47    | 25.1% | 17  | ⋯ |   6 | 10.7% | 209   | 94.6% | 12    | 5.4%  | 1   | 100.0% | 2014 | april |\n",
       "| 6 | Cleveland         |  0 | -      |  0 | -     | 85    | 67.5% | 41    | 32.5% | 11  | ⋯ |   5 | 15.2% | 124   | 87.9% | 17    | 12.1% | 10  | 100.0% | 2014 | april |\n",
       "\n"
      ],
      "text/plain": [
       "  X                 Number.of.Homicide.Convictions\n",
       "1 National          81                            \n",
       "2 Avon and Somerset  1                            \n",
       "3 Bedfordshire       0                            \n",
       "4 Cambridgeshire     0                            \n",
       "5 Cheshire           1                            \n",
       "6 Cleveland          0                            \n",
       "  Percentage.of.Homicide.Convictions Number.of.Homicide.Unsuccessful\n",
       "1 85.3%                              14                             \n",
       "2 100.0%                              0                             \n",
       "3 -                                   0                             \n",
       "4 -                                   0                             \n",
       "5 50.0%                               1                             \n",
       "6 -                                   0                             \n",
       "  Percentage.of.Homicide.Unsuccessful\n",
       "1 14.7%                              \n",
       "2 0.0%                               \n",
       "3 -                                  \n",
       "4 -                                  \n",
       "5 50.0%                              \n",
       "6 -                                  \n",
       "  Number.of.Offences.Against.The.Person.Convictions\n",
       "1 7,805                                            \n",
       "2 167                                              \n",
       "3 69                                               \n",
       "4 99                                               \n",
       "5 140                                              \n",
       "6 85                                               \n",
       "  Percentage.of.Offences.Against.The.Person.Convictions\n",
       "1 74.1%                                                \n",
       "2 78.8%                                                \n",
       "3 75.0%                                                \n",
       "4 81.1%                                                \n",
       "5 74.9%                                                \n",
       "6 67.5%                                                \n",
       "  Number.of.Offences.Against.The.Person.Unsuccessful\n",
       "1 2,722                                             \n",
       "2 45                                                \n",
       "3 23                                                \n",
       "4 23                                                \n",
       "5 47                                                \n",
       "6 41                                                \n",
       "  Percentage.of.Offences.Against.The.Person.Unsuccessful\n",
       "1 25.9%                                                 \n",
       "2 21.2%                                                 \n",
       "3 25.0%                                                 \n",
       "4 18.9%                                                 \n",
       "5 25.1%                                                 \n",
       "6 32.5%                                                 \n",
       "  Number.of.Sexual.Offences.Convictions ⋯\n",
       "1 698                                   ⋯\n",
       "2 36                                    ⋯\n",
       "3 5                                     ⋯\n",
       "4 6                                     ⋯\n",
       "5 17                                    ⋯\n",
       "6 11                                    ⋯\n",
       "  Number.of.All.Other.Offences..excluding.Motoring..Unsuccessful\n",
       "1 513                                                           \n",
       "2  16                                                           \n",
       "3   6                                                           \n",
       "4   2                                                           \n",
       "5   6                                                           \n",
       "6   5                                                           \n",
       "  Percentage.of.All.Other.Offences..excluding.Motoring..Unsuccessful\n",
       "1 16.3%                                                             \n",
       "2 19.5%                                                             \n",
       "3 35.3%                                                             \n",
       "4 25.0%                                                             \n",
       "5 10.7%                                                             \n",
       "6 15.2%                                                             \n",
       "  Number.of.Motoring.Offences.Convictions\n",
       "1 8,283                                  \n",
       "2 188                                    \n",
       "3 40                                     \n",
       "4 79                                     \n",
       "5 209                                    \n",
       "6 124                                    \n",
       "  Percentage.of.Motoring.Offences.Convictions\n",
       "1 86.3%                                      \n",
       "2 83.6%                                      \n",
       "3 88.9%                                      \n",
       "4 92.9%                                      \n",
       "5 94.6%                                      \n",
       "6 87.9%                                      \n",
       "  Number.of.Motoring.Offences.Unsuccessful\n",
       "1 1,314                                   \n",
       "2 37                                      \n",
       "3 5                                       \n",
       "4 6                                       \n",
       "5 12                                      \n",
       "6 17                                      \n",
       "  Percentage.of.Motoring.Offences.Unsuccessful\n",
       "1 13.7%                                       \n",
       "2 16.4%                                       \n",
       "3 11.1%                                       \n",
       "4 7.1%                                        \n",
       "5 5.4%                                        \n",
       "6 12.1%                                       \n",
       "  Number.of.Admin.Finalised.Unsuccessful\n",
       "1 718                                   \n",
       "2 24                                    \n",
       "3 16                                    \n",
       "4 4                                     \n",
       "5 1                                     \n",
       "6 10                                    \n",
       "  Percentage.of.L.Motoring.Offences.Unsuccessful year month\n",
       "1 100.0%                                         2014 april\n",
       "2 100.0%                                         2014 april\n",
       "3 100.0%                                         2014 april\n",
       "4 100.0%                                         2014 april\n",
       "5 100.0%                                         2014 april\n",
       "6 100.0%                                         2014 april"
      ]
     },
     "metadata": {},
     "output_type": "display_data"
    }
   ],
   "source": [
    "head(combined_df)"
   ]
  },
  {
   "cell_type": "code",
   "execution_count": 276,
   "id": "6a3be192",
   "metadata": {},
   "outputs": [],
   "source": [
    "write.csv(combined_df, \"dataset/merged-data.csv\", row.names=FALSE)"
   ]
  },
  {
   "cell_type": "markdown",
   "id": "4f8751a4",
   "metadata": {},
   "source": [
    "# Data Cleaning"
   ]
  },
  {
   "cell_type": "code",
   "execution_count": 277,
   "id": "594cde60",
   "metadata": {},
   "outputs": [],
   "source": [
    "combined_df <- read.csv(\"dataset/merged-data.csv\")"
   ]
  },
  {
   "cell_type": "code",
   "execution_count": 278,
   "id": "b3fb1df9",
   "metadata": {
    "scrolled": false
   },
   "outputs": [
    {
     "name": "stdout",
     "output_type": "stream",
     "text": [
      "Rows: 2,193\n",
      "Columns: 53\n",
      "$ X                                                                  \u001b[3m\u001b[90m<chr>\u001b[39m\u001b[23m \"Na…\n",
      "$ Number.of.Homicide.Convictions                                     \u001b[3m\u001b[90m<int>\u001b[39m\u001b[23m 81,…\n",
      "$ Percentage.of.Homicide.Convictions                                 \u001b[3m\u001b[90m<chr>\u001b[39m\u001b[23m \"85…\n",
      "$ Number.of.Homicide.Unsuccessful                                    \u001b[3m\u001b[90m<int>\u001b[39m\u001b[23m 14,…\n",
      "$ Percentage.of.Homicide.Unsuccessful                                \u001b[3m\u001b[90m<chr>\u001b[39m\u001b[23m \"14…\n",
      "$ Number.of.Offences.Against.The.Person.Convictions                  \u001b[3m\u001b[90m<chr>\u001b[39m\u001b[23m \"7,…\n",
      "$ Percentage.of.Offences.Against.The.Person.Convictions              \u001b[3m\u001b[90m<chr>\u001b[39m\u001b[23m \"74…\n",
      "$ Number.of.Offences.Against.The.Person.Unsuccessful                 \u001b[3m\u001b[90m<chr>\u001b[39m\u001b[23m \"2,…\n",
      "$ Percentage.of.Offences.Against.The.Person.Unsuccessful             \u001b[3m\u001b[90m<chr>\u001b[39m\u001b[23m \"25…\n",
      "$ Number.of.Sexual.Offences.Convictions                              \u001b[3m\u001b[90m<chr>\u001b[39m\u001b[23m \"69…\n",
      "$ Percentage.of.Sexual.Offences.Convictions                          \u001b[3m\u001b[90m<chr>\u001b[39m\u001b[23m \"72…\n",
      "$ Number.of.Sexual.Offences.Unsuccessful                             \u001b[3m\u001b[90m<int>\u001b[39m\u001b[23m 269…\n",
      "$ Percentage.of.Sexual.Offences.Unsuccessful                         \u001b[3m\u001b[90m<chr>\u001b[39m\u001b[23m \"27…\n",
      "$ Number.of.Burglary.Convictions                                     \u001b[3m\u001b[90m<chr>\u001b[39m\u001b[23m \"1,…\n",
      "$ Percentage.of.Burglary.Convictions                                 \u001b[3m\u001b[90m<chr>\u001b[39m\u001b[23m \"86…\n",
      "$ Number.of.Burglary.Unsuccessful                                    \u001b[3m\u001b[90m<int>\u001b[39m\u001b[23m 226…\n",
      "$ Percentage.of.Burglary.Unsuccessful                                \u001b[3m\u001b[90m<chr>\u001b[39m\u001b[23m \"13…\n",
      "$ Number.of.Robbery.Convictions                                      \u001b[3m\u001b[90m<int>\u001b[39m\u001b[23m 517…\n",
      "$ Percentage.of.Robbery.Convictions                                  \u001b[3m\u001b[90m<chr>\u001b[39m\u001b[23m \"81…\n",
      "$ Number.of.Robbery.Unsuccessful                                     \u001b[3m\u001b[90m<int>\u001b[39m\u001b[23m 116…\n",
      "$ Percentage.of.Robbery.Unsuccessful                                 \u001b[3m\u001b[90m<chr>\u001b[39m\u001b[23m \"18…\n",
      "$ Number.of.Theft.And.Handling.Convictions                           \u001b[3m\u001b[90m<chr>\u001b[39m\u001b[23m \"10…\n",
      "$ Percentage.of.Theft.And.Handling.Convictions                       \u001b[3m\u001b[90m<chr>\u001b[39m\u001b[23m \"92…\n",
      "$ Number.of.Theft.And.Handling.Unsuccessful                          \u001b[3m\u001b[90m<chr>\u001b[39m\u001b[23m \"84…\n",
      "$ Percentage.of.Theft.And.Handling.Unsuccessful                      \u001b[3m\u001b[90m<chr>\u001b[39m\u001b[23m \"7.…\n",
      "$ Number.of.Fraud.And.Forgery.Convictions                            \u001b[3m\u001b[90m<chr>\u001b[39m\u001b[23m \"66…\n",
      "$ Percentage.of.Fraud.And.Forgery.Convictions                        \u001b[3m\u001b[90m<chr>\u001b[39m\u001b[23m \"86…\n",
      "$ Number.of.Fraud.And.Forgery.Unsuccessful                           \u001b[3m\u001b[90m<int>\u001b[39m\u001b[23m 108…\n",
      "$ Percentage.of.Fraud.And.Forgery.Unsuccessful                       \u001b[3m\u001b[90m<chr>\u001b[39m\u001b[23m \"14…\n",
      "$ Number.of.Criminal.Damage.Convictions                              \u001b[3m\u001b[90m<chr>\u001b[39m\u001b[23m \"2,…\n",
      "$ Percentage.of.Criminal.Damage.Convictions                          \u001b[3m\u001b[90m<chr>\u001b[39m\u001b[23m \"85…\n",
      "$ Number.of.Criminal.Damage.Unsuccessful                             \u001b[3m\u001b[90m<int>\u001b[39m\u001b[23m 391…\n",
      "$ Percentage.of.Criminal.Damage.Unsuccessful                         \u001b[3m\u001b[90m<chr>\u001b[39m\u001b[23m \"14…\n",
      "$ Number.of.Drugs.Offences.Convictions                               \u001b[3m\u001b[90m<chr>\u001b[39m\u001b[23m \"4,…\n",
      "$ Percentage.of.Drugs.Offences.Convictions                           \u001b[3m\u001b[90m<chr>\u001b[39m\u001b[23m \"94…\n",
      "$ Number.of.Drugs.Offences.Unsuccessful                              \u001b[3m\u001b[90m<int>\u001b[39m\u001b[23m 279…\n",
      "$ Percentage.of.Drugs.Offences.Unsuccessful                          \u001b[3m\u001b[90m<chr>\u001b[39m\u001b[23m \"5.…\n",
      "$ Number.of.Public.Order.Offences.Convictions                        \u001b[3m\u001b[90m<chr>\u001b[39m\u001b[23m \"3,…\n",
      "$ Percentage.of.Public.Order.Offences.Convictions                    \u001b[3m\u001b[90m<chr>\u001b[39m\u001b[23m \"84…\n",
      "$ Number.of.Public.Order.Offences.Unsuccessful                       \u001b[3m\u001b[90m<int>\u001b[39m\u001b[23m 654…\n",
      "$ Percentage.of.Public.Order.Offences.Unsuccessful                   \u001b[3m\u001b[90m<chr>\u001b[39m\u001b[23m \"15…\n",
      "$ Number.of.All.Other.Offences..excluding.Motoring..Convictions      \u001b[3m\u001b[90m<chr>\u001b[39m\u001b[23m \"2,…\n",
      "$ Percentage.of.All.Other.Offences..excluding.Motoring..Convictions  \u001b[3m\u001b[90m<chr>\u001b[39m\u001b[23m \"83…\n",
      "$ Number.of.All.Other.Offences..excluding.Motoring..Unsuccessful     \u001b[3m\u001b[90m<int>\u001b[39m\u001b[23m 513…\n",
      "$ Percentage.of.All.Other.Offences..excluding.Motoring..Unsuccessful \u001b[3m\u001b[90m<chr>\u001b[39m\u001b[23m \"16…\n",
      "$ Number.of.Motoring.Offences.Convictions                            \u001b[3m\u001b[90m<chr>\u001b[39m\u001b[23m \"8,…\n",
      "$ Percentage.of.Motoring.Offences.Convictions                        \u001b[3m\u001b[90m<chr>\u001b[39m\u001b[23m \"86…\n",
      "$ Number.of.Motoring.Offences.Unsuccessful                           \u001b[3m\u001b[90m<chr>\u001b[39m\u001b[23m \"1,…\n",
      "$ Percentage.of.Motoring.Offences.Unsuccessful                       \u001b[3m\u001b[90m<chr>\u001b[39m\u001b[23m \"13…\n",
      "$ Number.of.Admin.Finalised.Unsuccessful                             \u001b[3m\u001b[90m<chr>\u001b[39m\u001b[23m \"71…\n",
      "$ Percentage.of.L.Motoring.Offences.Unsuccessful                     \u001b[3m\u001b[90m<chr>\u001b[39m\u001b[23m \"10…\n",
      "$ year                                                               \u001b[3m\u001b[90m<int>\u001b[39m\u001b[23m 201…\n",
      "$ month                                                              \u001b[3m\u001b[90m<chr>\u001b[39m\u001b[23m \"ap…\n"
     ]
    }
   ],
   "source": [
    "glimpse(combined_df)"
   ]
  },
  {
   "cell_type": "code",
   "execution_count": 279,
   "id": "41ceb273",
   "metadata": {},
   "outputs": [],
   "source": [
    "drop_percentage_columns <- function(dataframe) {\n",
    "  col_names <- colnames(dataframe)\n",
    "  to_drop <- grep(\"Percentage\", col_names, value = TRUE)\n",
    "  dataframe <- dataframe[, !(col_names %in% to_drop)]\n",
    "  return(dataframe)\n",
    "}"
   ]
  },
  {
   "cell_type": "code",
   "execution_count": 280,
   "id": "a57b522f",
   "metadata": {},
   "outputs": [],
   "source": [
    "combined_df = drop_percentage_columns(combined_df)"
   ]
  },
  {
   "cell_type": "code",
   "execution_count": 281,
   "id": "0ce87157",
   "metadata": {},
   "outputs": [
    {
     "data": {
      "text/html": [
       "<table class=\"dataframe\">\n",
       "<caption>A data.frame: 6 × 28</caption>\n",
       "<thead>\n",
       "\t<tr><th></th><th scope=col>X</th><th scope=col>Number.of.Homicide.Convictions</th><th scope=col>Number.of.Homicide.Unsuccessful</th><th scope=col>Number.of.Offences.Against.The.Person.Convictions</th><th scope=col>Number.of.Offences.Against.The.Person.Unsuccessful</th><th scope=col>Number.of.Sexual.Offences.Convictions</th><th scope=col>Number.of.Sexual.Offences.Unsuccessful</th><th scope=col>Number.of.Burglary.Convictions</th><th scope=col>Number.of.Burglary.Unsuccessful</th><th scope=col>Number.of.Robbery.Convictions</th><th scope=col>⋯</th><th scope=col>Number.of.Drugs.Offences.Unsuccessful</th><th scope=col>Number.of.Public.Order.Offences.Convictions</th><th scope=col>Number.of.Public.Order.Offences.Unsuccessful</th><th scope=col>Number.of.All.Other.Offences..excluding.Motoring..Convictions</th><th scope=col>Number.of.All.Other.Offences..excluding.Motoring..Unsuccessful</th><th scope=col>Number.of.Motoring.Offences.Convictions</th><th scope=col>Number.of.Motoring.Offences.Unsuccessful</th><th scope=col>Number.of.Admin.Finalised.Unsuccessful</th><th scope=col>year</th><th scope=col>month</th></tr>\n",
       "\t<tr><th></th><th scope=col>&lt;chr&gt;</th><th scope=col>&lt;int&gt;</th><th scope=col>&lt;int&gt;</th><th scope=col>&lt;chr&gt;</th><th scope=col>&lt;chr&gt;</th><th scope=col>&lt;chr&gt;</th><th scope=col>&lt;int&gt;</th><th scope=col>&lt;chr&gt;</th><th scope=col>&lt;int&gt;</th><th scope=col>&lt;int&gt;</th><th scope=col>⋯</th><th scope=col>&lt;int&gt;</th><th scope=col>&lt;chr&gt;</th><th scope=col>&lt;int&gt;</th><th scope=col>&lt;chr&gt;</th><th scope=col>&lt;int&gt;</th><th scope=col>&lt;chr&gt;</th><th scope=col>&lt;chr&gt;</th><th scope=col>&lt;chr&gt;</th><th scope=col>&lt;int&gt;</th><th scope=col>&lt;chr&gt;</th></tr>\n",
       "</thead>\n",
       "<tbody>\n",
       "\t<tr><th scope=row>1</th><td>National         </td><td>81</td><td>14</td><td>7,805</td><td>2,722</td><td>698</td><td>269</td><td>1,470</td><td>226</td><td>517</td><td>⋯</td><td>279</td><td>3,549</td><td>654</td><td>2,640</td><td>513</td><td>8,283</td><td>1,314</td><td>718</td><td>2014</td><td>april</td></tr>\n",
       "\t<tr><th scope=row>2</th><td>Avon and Somerset</td><td> 1</td><td> 0</td><td>167  </td><td>45   </td><td>36 </td><td>  8</td><td>37   </td><td>  2</td><td>  9</td><td>⋯</td><td>  2</td><td>68   </td><td> 11</td><td>66   </td><td> 16</td><td>188  </td><td>37   </td><td>24 </td><td>2014</td><td>april</td></tr>\n",
       "\t<tr><th scope=row>3</th><td>Bedfordshire     </td><td> 0</td><td> 0</td><td>69   </td><td>23   </td><td>5  </td><td>  1</td><td>16   </td><td>  1</td><td>  4</td><td>⋯</td><td>  2</td><td>29   </td><td>  6</td><td>11   </td><td>  6</td><td>40   </td><td>5    </td><td>16 </td><td>2014</td><td>april</td></tr>\n",
       "\t<tr><th scope=row>4</th><td>Cambridgeshire   </td><td> 0</td><td> 0</td><td>99   </td><td>23   </td><td>6  </td><td>  3</td><td>8    </td><td>  0</td><td>  6</td><td>⋯</td><td>  2</td><td>45   </td><td>  9</td><td>6    </td><td>  2</td><td>79   </td><td>6    </td><td>4  </td><td>2014</td><td>april</td></tr>\n",
       "\t<tr><th scope=row>5</th><td>Cheshire         </td><td> 1</td><td> 1</td><td>140  </td><td>47   </td><td>17 </td><td>  3</td><td>26   </td><td>  3</td><td>  1</td><td>⋯</td><td> 10</td><td>86   </td><td>  7</td><td>50   </td><td>  6</td><td>209  </td><td>12   </td><td>1  </td><td>2014</td><td>april</td></tr>\n",
       "\t<tr><th scope=row>6</th><td>Cleveland        </td><td> 0</td><td> 0</td><td>85   </td><td>41   </td><td>11 </td><td>  4</td><td>25   </td><td> 10</td><td>  5</td><td>⋯</td><td>  7</td><td>74   </td><td> 27</td><td>28   </td><td>  5</td><td>124  </td><td>17   </td><td>10 </td><td>2014</td><td>april</td></tr>\n",
       "</tbody>\n",
       "</table>\n"
      ],
      "text/latex": [
       "A data.frame: 6 × 28\n",
       "\\begin{tabular}{r|lllllllllllllllllllll}\n",
       "  & X & Number.of.Homicide.Convictions & Number.of.Homicide.Unsuccessful & Number.of.Offences.Against.The.Person.Convictions & Number.of.Offences.Against.The.Person.Unsuccessful & Number.of.Sexual.Offences.Convictions & Number.of.Sexual.Offences.Unsuccessful & Number.of.Burglary.Convictions & Number.of.Burglary.Unsuccessful & Number.of.Robbery.Convictions & ⋯ & Number.of.Drugs.Offences.Unsuccessful & Number.of.Public.Order.Offences.Convictions & Number.of.Public.Order.Offences.Unsuccessful & Number.of.All.Other.Offences..excluding.Motoring..Convictions & Number.of.All.Other.Offences..excluding.Motoring..Unsuccessful & Number.of.Motoring.Offences.Convictions & Number.of.Motoring.Offences.Unsuccessful & Number.of.Admin.Finalised.Unsuccessful & year & month\\\\\n",
       "  & <chr> & <int> & <int> & <chr> & <chr> & <chr> & <int> & <chr> & <int> & <int> & ⋯ & <int> & <chr> & <int> & <chr> & <int> & <chr> & <chr> & <chr> & <int> & <chr>\\\\\n",
       "\\hline\n",
       "\t1 & National          & 81 & 14 & 7,805 & 2,722 & 698 & 269 & 1,470 & 226 & 517 & ⋯ & 279 & 3,549 & 654 & 2,640 & 513 & 8,283 & 1,314 & 718 & 2014 & april\\\\\n",
       "\t2 & Avon and Somerset &  1 &  0 & 167   & 45    & 36  &   8 & 37    &   2 &   9 & ⋯ &   2 & 68    &  11 & 66    &  16 & 188   & 37    & 24  & 2014 & april\\\\\n",
       "\t3 & Bedfordshire      &  0 &  0 & 69    & 23    & 5   &   1 & 16    &   1 &   4 & ⋯ &   2 & 29    &   6 & 11    &   6 & 40    & 5     & 16  & 2014 & april\\\\\n",
       "\t4 & Cambridgeshire    &  0 &  0 & 99    & 23    & 6   &   3 & 8     &   0 &   6 & ⋯ &   2 & 45    &   9 & 6     &   2 & 79    & 6     & 4   & 2014 & april\\\\\n",
       "\t5 & Cheshire          &  1 &  1 & 140   & 47    & 17  &   3 & 26    &   3 &   1 & ⋯ &  10 & 86    &   7 & 50    &   6 & 209   & 12    & 1   & 2014 & april\\\\\n",
       "\t6 & Cleveland         &  0 &  0 & 85    & 41    & 11  &   4 & 25    &  10 &   5 & ⋯ &   7 & 74    &  27 & 28    &   5 & 124   & 17    & 10  & 2014 & april\\\\\n",
       "\\end{tabular}\n"
      ],
      "text/markdown": [
       "\n",
       "A data.frame: 6 × 28\n",
       "\n",
       "| <!--/--> | X &lt;chr&gt; | Number.of.Homicide.Convictions &lt;int&gt; | Number.of.Homicide.Unsuccessful &lt;int&gt; | Number.of.Offences.Against.The.Person.Convictions &lt;chr&gt; | Number.of.Offences.Against.The.Person.Unsuccessful &lt;chr&gt; | Number.of.Sexual.Offences.Convictions &lt;chr&gt; | Number.of.Sexual.Offences.Unsuccessful &lt;int&gt; | Number.of.Burglary.Convictions &lt;chr&gt; | Number.of.Burglary.Unsuccessful &lt;int&gt; | Number.of.Robbery.Convictions &lt;int&gt; | ⋯ ⋯ | Number.of.Drugs.Offences.Unsuccessful &lt;int&gt; | Number.of.Public.Order.Offences.Convictions &lt;chr&gt; | Number.of.Public.Order.Offences.Unsuccessful &lt;int&gt; | Number.of.All.Other.Offences..excluding.Motoring..Convictions &lt;chr&gt; | Number.of.All.Other.Offences..excluding.Motoring..Unsuccessful &lt;int&gt; | Number.of.Motoring.Offences.Convictions &lt;chr&gt; | Number.of.Motoring.Offences.Unsuccessful &lt;chr&gt; | Number.of.Admin.Finalised.Unsuccessful &lt;chr&gt; | year &lt;int&gt; | month &lt;chr&gt; |\n",
       "|---|---|---|---|---|---|---|---|---|---|---|---|---|---|---|---|---|---|---|---|---|---|\n",
       "| 1 | National          | 81 | 14 | 7,805 | 2,722 | 698 | 269 | 1,470 | 226 | 517 | ⋯ | 279 | 3,549 | 654 | 2,640 | 513 | 8,283 | 1,314 | 718 | 2014 | april |\n",
       "| 2 | Avon and Somerset |  1 |  0 | 167   | 45    | 36  |   8 | 37    |   2 |   9 | ⋯ |   2 | 68    |  11 | 66    |  16 | 188   | 37    | 24  | 2014 | april |\n",
       "| 3 | Bedfordshire      |  0 |  0 | 69    | 23    | 5   |   1 | 16    |   1 |   4 | ⋯ |   2 | 29    |   6 | 11    |   6 | 40    | 5     | 16  | 2014 | april |\n",
       "| 4 | Cambridgeshire    |  0 |  0 | 99    | 23    | 6   |   3 | 8     |   0 |   6 | ⋯ |   2 | 45    |   9 | 6     |   2 | 79    | 6     | 4   | 2014 | april |\n",
       "| 5 | Cheshire          |  1 |  1 | 140   | 47    | 17  |   3 | 26    |   3 |   1 | ⋯ |  10 | 86    |   7 | 50    |   6 | 209   | 12    | 1   | 2014 | april |\n",
       "| 6 | Cleveland         |  0 |  0 | 85    | 41    | 11  |   4 | 25    |  10 |   5 | ⋯ |   7 | 74    |  27 | 28    |   5 | 124   | 17    | 10  | 2014 | april |\n",
       "\n"
      ],
      "text/plain": [
       "  X                 Number.of.Homicide.Convictions\n",
       "1 National          81                            \n",
       "2 Avon and Somerset  1                            \n",
       "3 Bedfordshire       0                            \n",
       "4 Cambridgeshire     0                            \n",
       "5 Cheshire           1                            \n",
       "6 Cleveland          0                            \n",
       "  Number.of.Homicide.Unsuccessful\n",
       "1 14                             \n",
       "2  0                             \n",
       "3  0                             \n",
       "4  0                             \n",
       "5  1                             \n",
       "6  0                             \n",
       "  Number.of.Offences.Against.The.Person.Convictions\n",
       "1 7,805                                            \n",
       "2 167                                              \n",
       "3 69                                               \n",
       "4 99                                               \n",
       "5 140                                              \n",
       "6 85                                               \n",
       "  Number.of.Offences.Against.The.Person.Unsuccessful\n",
       "1 2,722                                             \n",
       "2 45                                                \n",
       "3 23                                                \n",
       "4 23                                                \n",
       "5 47                                                \n",
       "6 41                                                \n",
       "  Number.of.Sexual.Offences.Convictions Number.of.Sexual.Offences.Unsuccessful\n",
       "1 698                                   269                                   \n",
       "2 36                                      8                                   \n",
       "3 5                                       1                                   \n",
       "4 6                                       3                                   \n",
       "5 17                                      3                                   \n",
       "6 11                                      4                                   \n",
       "  Number.of.Burglary.Convictions Number.of.Burglary.Unsuccessful\n",
       "1 1,470                          226                            \n",
       "2 37                               2                            \n",
       "3 16                               1                            \n",
       "4 8                                0                            \n",
       "5 26                               3                            \n",
       "6 25                              10                            \n",
       "  Number.of.Robbery.Convictions ⋯ Number.of.Drugs.Offences.Unsuccessful\n",
       "1 517                           ⋯ 279                                  \n",
       "2   9                           ⋯   2                                  \n",
       "3   4                           ⋯   2                                  \n",
       "4   6                           ⋯   2                                  \n",
       "5   1                           ⋯  10                                  \n",
       "6   5                           ⋯   7                                  \n",
       "  Number.of.Public.Order.Offences.Convictions\n",
       "1 3,549                                      \n",
       "2 68                                         \n",
       "3 29                                         \n",
       "4 45                                         \n",
       "5 86                                         \n",
       "6 74                                         \n",
       "  Number.of.Public.Order.Offences.Unsuccessful\n",
       "1 654                                         \n",
       "2  11                                         \n",
       "3   6                                         \n",
       "4   9                                         \n",
       "5   7                                         \n",
       "6  27                                         \n",
       "  Number.of.All.Other.Offences..excluding.Motoring..Convictions\n",
       "1 2,640                                                        \n",
       "2 66                                                           \n",
       "3 11                                                           \n",
       "4 6                                                            \n",
       "5 50                                                           \n",
       "6 28                                                           \n",
       "  Number.of.All.Other.Offences..excluding.Motoring..Unsuccessful\n",
       "1 513                                                           \n",
       "2  16                                                           \n",
       "3   6                                                           \n",
       "4   2                                                           \n",
       "5   6                                                           \n",
       "6   5                                                           \n",
       "  Number.of.Motoring.Offences.Convictions\n",
       "1 8,283                                  \n",
       "2 188                                    \n",
       "3 40                                     \n",
       "4 79                                     \n",
       "5 209                                    \n",
       "6 124                                    \n",
       "  Number.of.Motoring.Offences.Unsuccessful\n",
       "1 1,314                                   \n",
       "2 37                                      \n",
       "3 5                                       \n",
       "4 6                                       \n",
       "5 12                                      \n",
       "6 17                                      \n",
       "  Number.of.Admin.Finalised.Unsuccessful year month\n",
       "1 718                                    2014 april\n",
       "2 24                                     2014 april\n",
       "3 16                                     2014 april\n",
       "4 4                                      2014 april\n",
       "5 1                                      2014 april\n",
       "6 10                                     2014 april"
      ]
     },
     "metadata": {},
     "output_type": "display_data"
    }
   ],
   "source": [
    "head(combined_df)"
   ]
  },
  {
   "cell_type": "code",
   "execution_count": 282,
   "id": "4e2205f1",
   "metadata": {},
   "outputs": [],
   "source": [
    "sort_by_yearmon <- function(dataframe){\n",
    "  dataframe$yearmon <- as.Date(paste(dataframe$year, dataframe$month, \"01\", sep = \"-\"), \"%Y-%b-%d\")\n",
    "  dataframe <- dataframe[order(dataframe$yearmon),]\n",
    "  return(dataframe)\n",
    "}"
   ]
  },
  {
   "cell_type": "code",
   "execution_count": 283,
   "id": "b91bf828",
   "metadata": {},
   "outputs": [],
   "source": [
    "combined_df <- sort_by_yearmon(combined_df)"
   ]
  },
  {
   "cell_type": "code",
   "execution_count": 284,
   "id": "e3b387e9",
   "metadata": {},
   "outputs": [
    {
     "data": {
      "text/html": [
       "<table class=\"dataframe\">\n",
       "<caption>A data.frame: 6 × 29</caption>\n",
       "<thead>\n",
       "\t<tr><th></th><th scope=col>X</th><th scope=col>Number.of.Homicide.Convictions</th><th scope=col>Number.of.Homicide.Unsuccessful</th><th scope=col>Number.of.Offences.Against.The.Person.Convictions</th><th scope=col>Number.of.Offences.Against.The.Person.Unsuccessful</th><th scope=col>Number.of.Sexual.Offences.Convictions</th><th scope=col>Number.of.Sexual.Offences.Unsuccessful</th><th scope=col>Number.of.Burglary.Convictions</th><th scope=col>Number.of.Burglary.Unsuccessful</th><th scope=col>Number.of.Robbery.Convictions</th><th scope=col>⋯</th><th scope=col>Number.of.Public.Order.Offences.Convictions</th><th scope=col>Number.of.Public.Order.Offences.Unsuccessful</th><th scope=col>Number.of.All.Other.Offences..excluding.Motoring..Convictions</th><th scope=col>Number.of.All.Other.Offences..excluding.Motoring..Unsuccessful</th><th scope=col>Number.of.Motoring.Offences.Convictions</th><th scope=col>Number.of.Motoring.Offences.Unsuccessful</th><th scope=col>Number.of.Admin.Finalised.Unsuccessful</th><th scope=col>year</th><th scope=col>month</th><th scope=col>yearmon</th></tr>\n",
       "\t<tr><th></th><th scope=col>&lt;chr&gt;</th><th scope=col>&lt;int&gt;</th><th scope=col>&lt;int&gt;</th><th scope=col>&lt;chr&gt;</th><th scope=col>&lt;chr&gt;</th><th scope=col>&lt;chr&gt;</th><th scope=col>&lt;int&gt;</th><th scope=col>&lt;chr&gt;</th><th scope=col>&lt;int&gt;</th><th scope=col>&lt;int&gt;</th><th scope=col>⋯</th><th scope=col>&lt;chr&gt;</th><th scope=col>&lt;int&gt;</th><th scope=col>&lt;chr&gt;</th><th scope=col>&lt;int&gt;</th><th scope=col>&lt;chr&gt;</th><th scope=col>&lt;chr&gt;</th><th scope=col>&lt;chr&gt;</th><th scope=col>&lt;int&gt;</th><th scope=col>&lt;chr&gt;</th><th scope=col>&lt;date&gt;</th></tr>\n",
       "</thead>\n",
       "<tbody>\n",
       "\t<tr><th scope=row>173</th><td>National         </td><td>51</td><td>11</td><td>9,087</td><td>2,930</td><td>736</td><td>286</td><td>1,715</td><td>284</td><td>522</td><td>⋯</td><td>4,752</td><td>797</td><td>3,291</td><td>586</td><td>12,945</td><td>1,466</td><td>890</td><td>2014</td><td>january</td><td>2014-01-01</td></tr>\n",
       "\t<tr><th scope=row>174</th><td>Avon and Somerset</td><td> 0</td><td> 0</td><td>228  </td><td>62   </td><td>35 </td><td> 17</td><td>49   </td><td>  1</td><td>  8</td><td>⋯</td><td>123  </td><td> 28</td><td>63   </td><td>  9</td><td>256   </td><td>40   </td><td>20 </td><td>2014</td><td>january</td><td>2014-01-01</td></tr>\n",
       "\t<tr><th scope=row>175</th><td>Bedfordshire     </td><td> 0</td><td> 1</td><td>68   </td><td>29   </td><td>2  </td><td>  1</td><td>7    </td><td>  4</td><td> 16</td><td>⋯</td><td>30   </td><td>  9</td><td>13   </td><td>  2</td><td>171   </td><td>13   </td><td>12 </td><td>2014</td><td>january</td><td>2014-01-01</td></tr>\n",
       "\t<tr><th scope=row>176</th><td>Cambridgeshire   </td><td> 0</td><td> 0</td><td>101  </td><td>21   </td><td>10 </td><td>  3</td><td>18   </td><td>  4</td><td>  6</td><td>⋯</td><td>37   </td><td>  2</td><td>28   </td><td>  9</td><td>103   </td><td>16   </td><td>14 </td><td>2014</td><td>january</td><td>2014-01-01</td></tr>\n",
       "\t<tr><th scope=row>177</th><td>Cheshire         </td><td> 0</td><td> 0</td><td>170  </td><td>40   </td><td>15 </td><td>  1</td><td>38   </td><td>  5</td><td> 10</td><td>⋯</td><td>77   </td><td>  8</td><td>50   </td><td>  5</td><td>264   </td><td>16   </td><td>13 </td><td>2014</td><td>january</td><td>2014-01-01</td></tr>\n",
       "\t<tr><th scope=row>178</th><td>Cleveland        </td><td> 2</td><td> 3</td><td>119  </td><td>44   </td><td>11 </td><td>  6</td><td>36   </td><td>  2</td><td>  3</td><td>⋯</td><td>123  </td><td> 27</td><td>34   </td><td> 14</td><td>228   </td><td>16   </td><td>3  </td><td>2014</td><td>january</td><td>2014-01-01</td></tr>\n",
       "</tbody>\n",
       "</table>\n"
      ],
      "text/latex": [
       "A data.frame: 6 × 29\n",
       "\\begin{tabular}{r|lllllllllllllllllllll}\n",
       "  & X & Number.of.Homicide.Convictions & Number.of.Homicide.Unsuccessful & Number.of.Offences.Against.The.Person.Convictions & Number.of.Offences.Against.The.Person.Unsuccessful & Number.of.Sexual.Offences.Convictions & Number.of.Sexual.Offences.Unsuccessful & Number.of.Burglary.Convictions & Number.of.Burglary.Unsuccessful & Number.of.Robbery.Convictions & ⋯ & Number.of.Public.Order.Offences.Convictions & Number.of.Public.Order.Offences.Unsuccessful & Number.of.All.Other.Offences..excluding.Motoring..Convictions & Number.of.All.Other.Offences..excluding.Motoring..Unsuccessful & Number.of.Motoring.Offences.Convictions & Number.of.Motoring.Offences.Unsuccessful & Number.of.Admin.Finalised.Unsuccessful & year & month & yearmon\\\\\n",
       "  & <chr> & <int> & <int> & <chr> & <chr> & <chr> & <int> & <chr> & <int> & <int> & ⋯ & <chr> & <int> & <chr> & <int> & <chr> & <chr> & <chr> & <int> & <chr> & <date>\\\\\n",
       "\\hline\n",
       "\t173 & National          & 51 & 11 & 9,087 & 2,930 & 736 & 286 & 1,715 & 284 & 522 & ⋯ & 4,752 & 797 & 3,291 & 586 & 12,945 & 1,466 & 890 & 2014 & january & 2014-01-01\\\\\n",
       "\t174 & Avon and Somerset &  0 &  0 & 228   & 62    & 35  &  17 & 49    &   1 &   8 & ⋯ & 123   &  28 & 63    &   9 & 256    & 40    & 20  & 2014 & january & 2014-01-01\\\\\n",
       "\t175 & Bedfordshire      &  0 &  1 & 68    & 29    & 2   &   1 & 7     &   4 &  16 & ⋯ & 30    &   9 & 13    &   2 & 171    & 13    & 12  & 2014 & january & 2014-01-01\\\\\n",
       "\t176 & Cambridgeshire    &  0 &  0 & 101   & 21    & 10  &   3 & 18    &   4 &   6 & ⋯ & 37    &   2 & 28    &   9 & 103    & 16    & 14  & 2014 & january & 2014-01-01\\\\\n",
       "\t177 & Cheshire          &  0 &  0 & 170   & 40    & 15  &   1 & 38    &   5 &  10 & ⋯ & 77    &   8 & 50    &   5 & 264    & 16    & 13  & 2014 & january & 2014-01-01\\\\\n",
       "\t178 & Cleveland         &  2 &  3 & 119   & 44    & 11  &   6 & 36    &   2 &   3 & ⋯ & 123   &  27 & 34    &  14 & 228    & 16    & 3   & 2014 & january & 2014-01-01\\\\\n",
       "\\end{tabular}\n"
      ],
      "text/markdown": [
       "\n",
       "A data.frame: 6 × 29\n",
       "\n",
       "| <!--/--> | X &lt;chr&gt; | Number.of.Homicide.Convictions &lt;int&gt; | Number.of.Homicide.Unsuccessful &lt;int&gt; | Number.of.Offences.Against.The.Person.Convictions &lt;chr&gt; | Number.of.Offences.Against.The.Person.Unsuccessful &lt;chr&gt; | Number.of.Sexual.Offences.Convictions &lt;chr&gt; | Number.of.Sexual.Offences.Unsuccessful &lt;int&gt; | Number.of.Burglary.Convictions &lt;chr&gt; | Number.of.Burglary.Unsuccessful &lt;int&gt; | Number.of.Robbery.Convictions &lt;int&gt; | ⋯ ⋯ | Number.of.Public.Order.Offences.Convictions &lt;chr&gt; | Number.of.Public.Order.Offences.Unsuccessful &lt;int&gt; | Number.of.All.Other.Offences..excluding.Motoring..Convictions &lt;chr&gt; | Number.of.All.Other.Offences..excluding.Motoring..Unsuccessful &lt;int&gt; | Number.of.Motoring.Offences.Convictions &lt;chr&gt; | Number.of.Motoring.Offences.Unsuccessful &lt;chr&gt; | Number.of.Admin.Finalised.Unsuccessful &lt;chr&gt; | year &lt;int&gt; | month &lt;chr&gt; | yearmon &lt;date&gt; |\n",
       "|---|---|---|---|---|---|---|---|---|---|---|---|---|---|---|---|---|---|---|---|---|---|\n",
       "| 173 | National          | 51 | 11 | 9,087 | 2,930 | 736 | 286 | 1,715 | 284 | 522 | ⋯ | 4,752 | 797 | 3,291 | 586 | 12,945 | 1,466 | 890 | 2014 | january | 2014-01-01 |\n",
       "| 174 | Avon and Somerset |  0 |  0 | 228   | 62    | 35  |  17 | 49    |   1 |   8 | ⋯ | 123   |  28 | 63    |   9 | 256    | 40    | 20  | 2014 | january | 2014-01-01 |\n",
       "| 175 | Bedfordshire      |  0 |  1 | 68    | 29    | 2   |   1 | 7     |   4 |  16 | ⋯ | 30    |   9 | 13    |   2 | 171    | 13    | 12  | 2014 | january | 2014-01-01 |\n",
       "| 176 | Cambridgeshire    |  0 |  0 | 101   | 21    | 10  |   3 | 18    |   4 |   6 | ⋯ | 37    |   2 | 28    |   9 | 103    | 16    | 14  | 2014 | january | 2014-01-01 |\n",
       "| 177 | Cheshire          |  0 |  0 | 170   | 40    | 15  |   1 | 38    |   5 |  10 | ⋯ | 77    |   8 | 50    |   5 | 264    | 16    | 13  | 2014 | january | 2014-01-01 |\n",
       "| 178 | Cleveland         |  2 |  3 | 119   | 44    | 11  |   6 | 36    |   2 |   3 | ⋯ | 123   |  27 | 34    |  14 | 228    | 16    | 3   | 2014 | january | 2014-01-01 |\n",
       "\n"
      ],
      "text/plain": [
       "    X                 Number.of.Homicide.Convictions\n",
       "173 National          51                            \n",
       "174 Avon and Somerset  0                            \n",
       "175 Bedfordshire       0                            \n",
       "176 Cambridgeshire     0                            \n",
       "177 Cheshire           0                            \n",
       "178 Cleveland          2                            \n",
       "    Number.of.Homicide.Unsuccessful\n",
       "173 11                             \n",
       "174  0                             \n",
       "175  1                             \n",
       "176  0                             \n",
       "177  0                             \n",
       "178  3                             \n",
       "    Number.of.Offences.Against.The.Person.Convictions\n",
       "173 9,087                                            \n",
       "174 228                                              \n",
       "175 68                                               \n",
       "176 101                                              \n",
       "177 170                                              \n",
       "178 119                                              \n",
       "    Number.of.Offences.Against.The.Person.Unsuccessful\n",
       "173 2,930                                             \n",
       "174 62                                                \n",
       "175 29                                                \n",
       "176 21                                                \n",
       "177 40                                                \n",
       "178 44                                                \n",
       "    Number.of.Sexual.Offences.Convictions\n",
       "173 736                                  \n",
       "174 35                                   \n",
       "175 2                                    \n",
       "176 10                                   \n",
       "177 15                                   \n",
       "178 11                                   \n",
       "    Number.of.Sexual.Offences.Unsuccessful Number.of.Burglary.Convictions\n",
       "173 286                                    1,715                         \n",
       "174  17                                    49                            \n",
       "175   1                                    7                             \n",
       "176   3                                    18                            \n",
       "177   1                                    38                            \n",
       "178   6                                    36                            \n",
       "    Number.of.Burglary.Unsuccessful Number.of.Robbery.Convictions ⋯\n",
       "173 284                             522                           ⋯\n",
       "174   1                               8                           ⋯\n",
       "175   4                              16                           ⋯\n",
       "176   4                               6                           ⋯\n",
       "177   5                              10                           ⋯\n",
       "178   2                               3                           ⋯\n",
       "    Number.of.Public.Order.Offences.Convictions\n",
       "173 4,752                                      \n",
       "174 123                                        \n",
       "175 30                                         \n",
       "176 37                                         \n",
       "177 77                                         \n",
       "178 123                                        \n",
       "    Number.of.Public.Order.Offences.Unsuccessful\n",
       "173 797                                         \n",
       "174  28                                         \n",
       "175   9                                         \n",
       "176   2                                         \n",
       "177   8                                         \n",
       "178  27                                         \n",
       "    Number.of.All.Other.Offences..excluding.Motoring..Convictions\n",
       "173 3,291                                                        \n",
       "174 63                                                           \n",
       "175 13                                                           \n",
       "176 28                                                           \n",
       "177 50                                                           \n",
       "178 34                                                           \n",
       "    Number.of.All.Other.Offences..excluding.Motoring..Unsuccessful\n",
       "173 586                                                           \n",
       "174   9                                                           \n",
       "175   2                                                           \n",
       "176   9                                                           \n",
       "177   5                                                           \n",
       "178  14                                                           \n",
       "    Number.of.Motoring.Offences.Convictions\n",
       "173 12,945                                 \n",
       "174 256                                    \n",
       "175 171                                    \n",
       "176 103                                    \n",
       "177 264                                    \n",
       "178 228                                    \n",
       "    Number.of.Motoring.Offences.Unsuccessful\n",
       "173 1,466                                   \n",
       "174 40                                      \n",
       "175 13                                      \n",
       "176 16                                      \n",
       "177 16                                      \n",
       "178 16                                      \n",
       "    Number.of.Admin.Finalised.Unsuccessful year month   yearmon   \n",
       "173 890                                    2014 january 2014-01-01\n",
       "174 20                                     2014 january 2014-01-01\n",
       "175 12                                     2014 january 2014-01-01\n",
       "176 14                                     2014 january 2014-01-01\n",
       "177 13                                     2014 january 2014-01-01\n",
       "178 3                                      2014 january 2014-01-01"
      ]
     },
     "metadata": {},
     "output_type": "display_data"
    }
   ],
   "source": [
    "head(combined_df)"
   ]
  },
  {
   "cell_type": "code",
   "execution_count": 285,
   "id": "56825a62",
   "metadata": {},
   "outputs": [],
   "source": [
    "shift_columns <- function(dataframe){\n",
    "  cols <- colnames(dataframe)\n",
    "  cols <- c(cols[1], cols[(length(cols)-2):length(cols)], cols[2:(length(cols)-3)])\n",
    "  dataframe[, cols]\n",
    "}"
   ]
  },
  {
   "cell_type": "code",
   "execution_count": 286,
   "id": "838b6f67",
   "metadata": {},
   "outputs": [],
   "source": [
    "combined_df <- shift_columns(combined_df)"
   ]
  },
  {
   "cell_type": "code",
   "execution_count": 287,
   "id": "6fe1c1bd",
   "metadata": {},
   "outputs": [
    {
     "data": {
      "text/html": [
       "<table class=\"dataframe\">\n",
       "<caption>A data.frame: 6 × 29</caption>\n",
       "<thead>\n",
       "\t<tr><th></th><th scope=col>X</th><th scope=col>year</th><th scope=col>month</th><th scope=col>yearmon</th><th scope=col>Number.of.Homicide.Convictions</th><th scope=col>Number.of.Homicide.Unsuccessful</th><th scope=col>Number.of.Offences.Against.The.Person.Convictions</th><th scope=col>Number.of.Offences.Against.The.Person.Unsuccessful</th><th scope=col>Number.of.Sexual.Offences.Convictions</th><th scope=col>Number.of.Sexual.Offences.Unsuccessful</th><th scope=col>⋯</th><th scope=col>Number.of.Criminal.Damage.Unsuccessful</th><th scope=col>Number.of.Drugs.Offences.Convictions</th><th scope=col>Number.of.Drugs.Offences.Unsuccessful</th><th scope=col>Number.of.Public.Order.Offences.Convictions</th><th scope=col>Number.of.Public.Order.Offences.Unsuccessful</th><th scope=col>Number.of.All.Other.Offences..excluding.Motoring..Convictions</th><th scope=col>Number.of.All.Other.Offences..excluding.Motoring..Unsuccessful</th><th scope=col>Number.of.Motoring.Offences.Convictions</th><th scope=col>Number.of.Motoring.Offences.Unsuccessful</th><th scope=col>Number.of.Admin.Finalised.Unsuccessful</th></tr>\n",
       "\t<tr><th></th><th scope=col>&lt;chr&gt;</th><th scope=col>&lt;int&gt;</th><th scope=col>&lt;chr&gt;</th><th scope=col>&lt;date&gt;</th><th scope=col>&lt;int&gt;</th><th scope=col>&lt;int&gt;</th><th scope=col>&lt;chr&gt;</th><th scope=col>&lt;chr&gt;</th><th scope=col>&lt;chr&gt;</th><th scope=col>&lt;int&gt;</th><th scope=col>⋯</th><th scope=col>&lt;int&gt;</th><th scope=col>&lt;chr&gt;</th><th scope=col>&lt;int&gt;</th><th scope=col>&lt;chr&gt;</th><th scope=col>&lt;int&gt;</th><th scope=col>&lt;chr&gt;</th><th scope=col>&lt;int&gt;</th><th scope=col>&lt;chr&gt;</th><th scope=col>&lt;chr&gt;</th><th scope=col>&lt;chr&gt;</th></tr>\n",
       "</thead>\n",
       "<tbody>\n",
       "\t<tr><th scope=row>173</th><td>National         </td><td>2014</td><td>january</td><td>2014-01-01</td><td>51</td><td>11</td><td>9,087</td><td>2,930</td><td>736</td><td>286</td><td>⋯</td><td>472</td><td>4,988</td><td>305</td><td>4,752</td><td>797</td><td>3,291</td><td>586</td><td>12,945</td><td>1,466</td><td>890</td></tr>\n",
       "\t<tr><th scope=row>174</th><td>Avon and Somerset</td><td>2014</td><td>january</td><td>2014-01-01</td><td> 0</td><td> 0</td><td>228  </td><td>62   </td><td>35 </td><td> 17</td><td>⋯</td><td> 14</td><td>148  </td><td>  4</td><td>123  </td><td> 28</td><td>63   </td><td>  9</td><td>256   </td><td>40   </td><td>20 </td></tr>\n",
       "\t<tr><th scope=row>175</th><td>Bedfordshire     </td><td>2014</td><td>january</td><td>2014-01-01</td><td> 0</td><td> 1</td><td>68   </td><td>29   </td><td>2  </td><td>  1</td><td>⋯</td><td>  8</td><td>31   </td><td>  3</td><td>30   </td><td>  9</td><td>13   </td><td>  2</td><td>171   </td><td>13   </td><td>12 </td></tr>\n",
       "\t<tr><th scope=row>176</th><td>Cambridgeshire   </td><td>2014</td><td>january</td><td>2014-01-01</td><td> 0</td><td> 0</td><td>101  </td><td>21   </td><td>10 </td><td>  3</td><td>⋯</td><td>  3</td><td>47   </td><td>  1</td><td>37   </td><td>  2</td><td>28   </td><td>  9</td><td>103   </td><td>16   </td><td>14 </td></tr>\n",
       "\t<tr><th scope=row>177</th><td>Cheshire         </td><td>2014</td><td>january</td><td>2014-01-01</td><td> 0</td><td> 0</td><td>170  </td><td>40   </td><td>15 </td><td>  1</td><td>⋯</td><td>  3</td><td>64   </td><td>  3</td><td>77   </td><td>  8</td><td>50   </td><td>  5</td><td>264   </td><td>16   </td><td>13 </td></tr>\n",
       "\t<tr><th scope=row>178</th><td>Cleveland        </td><td>2014</td><td>january</td><td>2014-01-01</td><td> 2</td><td> 3</td><td>119  </td><td>44   </td><td>11 </td><td>  6</td><td>⋯</td><td> 13</td><td>65   </td><td>  2</td><td>123  </td><td> 27</td><td>34   </td><td> 14</td><td>228   </td><td>16   </td><td>3  </td></tr>\n",
       "</tbody>\n",
       "</table>\n"
      ],
      "text/latex": [
       "A data.frame: 6 × 29\n",
       "\\begin{tabular}{r|lllllllllllllllllllll}\n",
       "  & X & year & month & yearmon & Number.of.Homicide.Convictions & Number.of.Homicide.Unsuccessful & Number.of.Offences.Against.The.Person.Convictions & Number.of.Offences.Against.The.Person.Unsuccessful & Number.of.Sexual.Offences.Convictions & Number.of.Sexual.Offences.Unsuccessful & ⋯ & Number.of.Criminal.Damage.Unsuccessful & Number.of.Drugs.Offences.Convictions & Number.of.Drugs.Offences.Unsuccessful & Number.of.Public.Order.Offences.Convictions & Number.of.Public.Order.Offences.Unsuccessful & Number.of.All.Other.Offences..excluding.Motoring..Convictions & Number.of.All.Other.Offences..excluding.Motoring..Unsuccessful & Number.of.Motoring.Offences.Convictions & Number.of.Motoring.Offences.Unsuccessful & Number.of.Admin.Finalised.Unsuccessful\\\\\n",
       "  & <chr> & <int> & <chr> & <date> & <int> & <int> & <chr> & <chr> & <chr> & <int> & ⋯ & <int> & <chr> & <int> & <chr> & <int> & <chr> & <int> & <chr> & <chr> & <chr>\\\\\n",
       "\\hline\n",
       "\t173 & National          & 2014 & january & 2014-01-01 & 51 & 11 & 9,087 & 2,930 & 736 & 286 & ⋯ & 472 & 4,988 & 305 & 4,752 & 797 & 3,291 & 586 & 12,945 & 1,466 & 890\\\\\n",
       "\t174 & Avon and Somerset & 2014 & january & 2014-01-01 &  0 &  0 & 228   & 62    & 35  &  17 & ⋯ &  14 & 148   &   4 & 123   &  28 & 63    &   9 & 256    & 40    & 20 \\\\\n",
       "\t175 & Bedfordshire      & 2014 & january & 2014-01-01 &  0 &  1 & 68    & 29    & 2   &   1 & ⋯ &   8 & 31    &   3 & 30    &   9 & 13    &   2 & 171    & 13    & 12 \\\\\n",
       "\t176 & Cambridgeshire    & 2014 & january & 2014-01-01 &  0 &  0 & 101   & 21    & 10  &   3 & ⋯ &   3 & 47    &   1 & 37    &   2 & 28    &   9 & 103    & 16    & 14 \\\\\n",
       "\t177 & Cheshire          & 2014 & january & 2014-01-01 &  0 &  0 & 170   & 40    & 15  &   1 & ⋯ &   3 & 64    &   3 & 77    &   8 & 50    &   5 & 264    & 16    & 13 \\\\\n",
       "\t178 & Cleveland         & 2014 & january & 2014-01-01 &  2 &  3 & 119   & 44    & 11  &   6 & ⋯ &  13 & 65    &   2 & 123   &  27 & 34    &  14 & 228    & 16    & 3  \\\\\n",
       "\\end{tabular}\n"
      ],
      "text/markdown": [
       "\n",
       "A data.frame: 6 × 29\n",
       "\n",
       "| <!--/--> | X &lt;chr&gt; | year &lt;int&gt; | month &lt;chr&gt; | yearmon &lt;date&gt; | Number.of.Homicide.Convictions &lt;int&gt; | Number.of.Homicide.Unsuccessful &lt;int&gt; | Number.of.Offences.Against.The.Person.Convictions &lt;chr&gt; | Number.of.Offences.Against.The.Person.Unsuccessful &lt;chr&gt; | Number.of.Sexual.Offences.Convictions &lt;chr&gt; | Number.of.Sexual.Offences.Unsuccessful &lt;int&gt; | ⋯ ⋯ | Number.of.Criminal.Damage.Unsuccessful &lt;int&gt; | Number.of.Drugs.Offences.Convictions &lt;chr&gt; | Number.of.Drugs.Offences.Unsuccessful &lt;int&gt; | Number.of.Public.Order.Offences.Convictions &lt;chr&gt; | Number.of.Public.Order.Offences.Unsuccessful &lt;int&gt; | Number.of.All.Other.Offences..excluding.Motoring..Convictions &lt;chr&gt; | Number.of.All.Other.Offences..excluding.Motoring..Unsuccessful &lt;int&gt; | Number.of.Motoring.Offences.Convictions &lt;chr&gt; | Number.of.Motoring.Offences.Unsuccessful &lt;chr&gt; | Number.of.Admin.Finalised.Unsuccessful &lt;chr&gt; |\n",
       "|---|---|---|---|---|---|---|---|---|---|---|---|---|---|---|---|---|---|---|---|---|---|\n",
       "| 173 | National          | 2014 | january | 2014-01-01 | 51 | 11 | 9,087 | 2,930 | 736 | 286 | ⋯ | 472 | 4,988 | 305 | 4,752 | 797 | 3,291 | 586 | 12,945 | 1,466 | 890 |\n",
       "| 174 | Avon and Somerset | 2014 | january | 2014-01-01 |  0 |  0 | 228   | 62    | 35  |  17 | ⋯ |  14 | 148   |   4 | 123   |  28 | 63    |   9 | 256    | 40    | 20  |\n",
       "| 175 | Bedfordshire      | 2014 | january | 2014-01-01 |  0 |  1 | 68    | 29    | 2   |   1 | ⋯ |   8 | 31    |   3 | 30    |   9 | 13    |   2 | 171    | 13    | 12  |\n",
       "| 176 | Cambridgeshire    | 2014 | january | 2014-01-01 |  0 |  0 | 101   | 21    | 10  |   3 | ⋯ |   3 | 47    |   1 | 37    |   2 | 28    |   9 | 103    | 16    | 14  |\n",
       "| 177 | Cheshire          | 2014 | january | 2014-01-01 |  0 |  0 | 170   | 40    | 15  |   1 | ⋯ |   3 | 64    |   3 | 77    |   8 | 50    |   5 | 264    | 16    | 13  |\n",
       "| 178 | Cleveland         | 2014 | january | 2014-01-01 |  2 |  3 | 119   | 44    | 11  |   6 | ⋯ |  13 | 65    |   2 | 123   |  27 | 34    |  14 | 228    | 16    | 3   |\n",
       "\n"
      ],
      "text/plain": [
       "    X                 year month   yearmon    Number.of.Homicide.Convictions\n",
       "173 National          2014 january 2014-01-01 51                            \n",
       "174 Avon and Somerset 2014 january 2014-01-01  0                            \n",
       "175 Bedfordshire      2014 january 2014-01-01  0                            \n",
       "176 Cambridgeshire    2014 january 2014-01-01  0                            \n",
       "177 Cheshire          2014 january 2014-01-01  0                            \n",
       "178 Cleveland         2014 january 2014-01-01  2                            \n",
       "    Number.of.Homicide.Unsuccessful\n",
       "173 11                             \n",
       "174  0                             \n",
       "175  1                             \n",
       "176  0                             \n",
       "177  0                             \n",
       "178  3                             \n",
       "    Number.of.Offences.Against.The.Person.Convictions\n",
       "173 9,087                                            \n",
       "174 228                                              \n",
       "175 68                                               \n",
       "176 101                                              \n",
       "177 170                                              \n",
       "178 119                                              \n",
       "    Number.of.Offences.Against.The.Person.Unsuccessful\n",
       "173 2,930                                             \n",
       "174 62                                                \n",
       "175 29                                                \n",
       "176 21                                                \n",
       "177 40                                                \n",
       "178 44                                                \n",
       "    Number.of.Sexual.Offences.Convictions\n",
       "173 736                                  \n",
       "174 35                                   \n",
       "175 2                                    \n",
       "176 10                                   \n",
       "177 15                                   \n",
       "178 11                                   \n",
       "    Number.of.Sexual.Offences.Unsuccessful ⋯\n",
       "173 286                                    ⋯\n",
       "174  17                                    ⋯\n",
       "175   1                                    ⋯\n",
       "176   3                                    ⋯\n",
       "177   1                                    ⋯\n",
       "178   6                                    ⋯\n",
       "    Number.of.Criminal.Damage.Unsuccessful Number.of.Drugs.Offences.Convictions\n",
       "173 472                                    4,988                               \n",
       "174  14                                    148                                 \n",
       "175   8                                    31                                  \n",
       "176   3                                    47                                  \n",
       "177   3                                    64                                  \n",
       "178  13                                    65                                  \n",
       "    Number.of.Drugs.Offences.Unsuccessful\n",
       "173 305                                  \n",
       "174   4                                  \n",
       "175   3                                  \n",
       "176   1                                  \n",
       "177   3                                  \n",
       "178   2                                  \n",
       "    Number.of.Public.Order.Offences.Convictions\n",
       "173 4,752                                      \n",
       "174 123                                        \n",
       "175 30                                         \n",
       "176 37                                         \n",
       "177 77                                         \n",
       "178 123                                        \n",
       "    Number.of.Public.Order.Offences.Unsuccessful\n",
       "173 797                                         \n",
       "174  28                                         \n",
       "175   9                                         \n",
       "176   2                                         \n",
       "177   8                                         \n",
       "178  27                                         \n",
       "    Number.of.All.Other.Offences..excluding.Motoring..Convictions\n",
       "173 3,291                                                        \n",
       "174 63                                                           \n",
       "175 13                                                           \n",
       "176 28                                                           \n",
       "177 50                                                           \n",
       "178 34                                                           \n",
       "    Number.of.All.Other.Offences..excluding.Motoring..Unsuccessful\n",
       "173 586                                                           \n",
       "174   9                                                           \n",
       "175   2                                                           \n",
       "176   9                                                           \n",
       "177   5                                                           \n",
       "178  14                                                           \n",
       "    Number.of.Motoring.Offences.Convictions\n",
       "173 12,945                                 \n",
       "174 256                                    \n",
       "175 171                                    \n",
       "176 103                                    \n",
       "177 264                                    \n",
       "178 228                                    \n",
       "    Number.of.Motoring.Offences.Unsuccessful\n",
       "173 1,466                                   \n",
       "174 40                                      \n",
       "175 13                                      \n",
       "176 16                                      \n",
       "177 16                                      \n",
       "178 16                                      \n",
       "    Number.of.Admin.Finalised.Unsuccessful\n",
       "173 890                                   \n",
       "174 20                                    \n",
       "175 12                                    \n",
       "176 14                                    \n",
       "177 13                                    \n",
       "178 3                                     "
      ]
     },
     "metadata": {},
     "output_type": "display_data"
    }
   ],
   "source": [
    "head(combined_df)"
   ]
  },
  {
   "cell_type": "code",
   "execution_count": 288,
   "id": "2a5f3d7a",
   "metadata": {},
   "outputs": [],
   "source": [
    "rename_columns <- function(dataframe){\n",
    "  colnames(dataframe) <- gsub(\"Number.of.\", \"\", colnames(dataframe))\n",
    "  colnames(dataframe) <- gsub(\"\\\\.\", \"_\", colnames(dataframe))\n",
    "  colnames(dataframe) <- tolower(colnames(dataframe))\n",
    "  return(dataframe)\n",
    "}"
   ]
  },
  {
   "cell_type": "code",
   "execution_count": 289,
   "id": "b30c3468",
   "metadata": {},
   "outputs": [],
   "source": [
    "combined_df <- rename_columns(combined_df)"
   ]
  },
  {
   "cell_type": "code",
   "execution_count": 290,
   "id": "65c08fcc",
   "metadata": {},
   "outputs": [
    {
     "data": {
      "text/html": [
       "<table class=\"dataframe\">\n",
       "<caption>A data.frame: 6 × 29</caption>\n",
       "<thead>\n",
       "\t<tr><th></th><th scope=col>x</th><th scope=col>year</th><th scope=col>month</th><th scope=col>yearmon</th><th scope=col>homicide_convictions</th><th scope=col>homicide_unsuccessful</th><th scope=col>offences_against_the_person_convictions</th><th scope=col>offences_against_the_person_unsuccessful</th><th scope=col>sexual_offences_convictions</th><th scope=col>sexual_offences_unsuccessful</th><th scope=col>⋯</th><th scope=col>criminal_damage_unsuccessful</th><th scope=col>drugs_offences_convictions</th><th scope=col>drugs_offences_unsuccessful</th><th scope=col>public_order_offences_convictions</th><th scope=col>public_order_offences_unsuccessful</th><th scope=col>all_other_offences__excluding_motoring__convictions</th><th scope=col>all_other_offences__excluding_motoring__unsuccessful</th><th scope=col>motoring_offences_convictions</th><th scope=col>motoring_offences_unsuccessful</th><th scope=col>admin_finalised_unsuccessful</th></tr>\n",
       "\t<tr><th></th><th scope=col>&lt;chr&gt;</th><th scope=col>&lt;int&gt;</th><th scope=col>&lt;chr&gt;</th><th scope=col>&lt;date&gt;</th><th scope=col>&lt;int&gt;</th><th scope=col>&lt;int&gt;</th><th scope=col>&lt;chr&gt;</th><th scope=col>&lt;chr&gt;</th><th scope=col>&lt;chr&gt;</th><th scope=col>&lt;int&gt;</th><th scope=col>⋯</th><th scope=col>&lt;int&gt;</th><th scope=col>&lt;chr&gt;</th><th scope=col>&lt;int&gt;</th><th scope=col>&lt;chr&gt;</th><th scope=col>&lt;int&gt;</th><th scope=col>&lt;chr&gt;</th><th scope=col>&lt;int&gt;</th><th scope=col>&lt;chr&gt;</th><th scope=col>&lt;chr&gt;</th><th scope=col>&lt;chr&gt;</th></tr>\n",
       "</thead>\n",
       "<tbody>\n",
       "\t<tr><th scope=row>173</th><td>National         </td><td>2014</td><td>january</td><td>2014-01-01</td><td>51</td><td>11</td><td>9,087</td><td>2,930</td><td>736</td><td>286</td><td>⋯</td><td>472</td><td>4,988</td><td>305</td><td>4,752</td><td>797</td><td>3,291</td><td>586</td><td>12,945</td><td>1,466</td><td>890</td></tr>\n",
       "\t<tr><th scope=row>174</th><td>Avon and Somerset</td><td>2014</td><td>january</td><td>2014-01-01</td><td> 0</td><td> 0</td><td>228  </td><td>62   </td><td>35 </td><td> 17</td><td>⋯</td><td> 14</td><td>148  </td><td>  4</td><td>123  </td><td> 28</td><td>63   </td><td>  9</td><td>256   </td><td>40   </td><td>20 </td></tr>\n",
       "\t<tr><th scope=row>175</th><td>Bedfordshire     </td><td>2014</td><td>january</td><td>2014-01-01</td><td> 0</td><td> 1</td><td>68   </td><td>29   </td><td>2  </td><td>  1</td><td>⋯</td><td>  8</td><td>31   </td><td>  3</td><td>30   </td><td>  9</td><td>13   </td><td>  2</td><td>171   </td><td>13   </td><td>12 </td></tr>\n",
       "\t<tr><th scope=row>176</th><td>Cambridgeshire   </td><td>2014</td><td>january</td><td>2014-01-01</td><td> 0</td><td> 0</td><td>101  </td><td>21   </td><td>10 </td><td>  3</td><td>⋯</td><td>  3</td><td>47   </td><td>  1</td><td>37   </td><td>  2</td><td>28   </td><td>  9</td><td>103   </td><td>16   </td><td>14 </td></tr>\n",
       "\t<tr><th scope=row>177</th><td>Cheshire         </td><td>2014</td><td>january</td><td>2014-01-01</td><td> 0</td><td> 0</td><td>170  </td><td>40   </td><td>15 </td><td>  1</td><td>⋯</td><td>  3</td><td>64   </td><td>  3</td><td>77   </td><td>  8</td><td>50   </td><td>  5</td><td>264   </td><td>16   </td><td>13 </td></tr>\n",
       "\t<tr><th scope=row>178</th><td>Cleveland        </td><td>2014</td><td>january</td><td>2014-01-01</td><td> 2</td><td> 3</td><td>119  </td><td>44   </td><td>11 </td><td>  6</td><td>⋯</td><td> 13</td><td>65   </td><td>  2</td><td>123  </td><td> 27</td><td>34   </td><td> 14</td><td>228   </td><td>16   </td><td>3  </td></tr>\n",
       "</tbody>\n",
       "</table>\n"
      ],
      "text/latex": [
       "A data.frame: 6 × 29\n",
       "\\begin{tabular}{r|lllllllllllllllllllll}\n",
       "  & x & year & month & yearmon & homicide\\_convictions & homicide\\_unsuccessful & offences\\_against\\_the\\_person\\_convictions & offences\\_against\\_the\\_person\\_unsuccessful & sexual\\_offences\\_convictions & sexual\\_offences\\_unsuccessful & ⋯ & criminal\\_damage\\_unsuccessful & drugs\\_offences\\_convictions & drugs\\_offences\\_unsuccessful & public\\_order\\_offences\\_convictions & public\\_order\\_offences\\_unsuccessful & all\\_other\\_offences\\_\\_excluding\\_motoring\\_\\_convictions & all\\_other\\_offences\\_\\_excluding\\_motoring\\_\\_unsuccessful & motoring\\_offences\\_convictions & motoring\\_offences\\_unsuccessful & admin\\_finalised\\_unsuccessful\\\\\n",
       "  & <chr> & <int> & <chr> & <date> & <int> & <int> & <chr> & <chr> & <chr> & <int> & ⋯ & <int> & <chr> & <int> & <chr> & <int> & <chr> & <int> & <chr> & <chr> & <chr>\\\\\n",
       "\\hline\n",
       "\t173 & National          & 2014 & january & 2014-01-01 & 51 & 11 & 9,087 & 2,930 & 736 & 286 & ⋯ & 472 & 4,988 & 305 & 4,752 & 797 & 3,291 & 586 & 12,945 & 1,466 & 890\\\\\n",
       "\t174 & Avon and Somerset & 2014 & january & 2014-01-01 &  0 &  0 & 228   & 62    & 35  &  17 & ⋯ &  14 & 148   &   4 & 123   &  28 & 63    &   9 & 256    & 40    & 20 \\\\\n",
       "\t175 & Bedfordshire      & 2014 & january & 2014-01-01 &  0 &  1 & 68    & 29    & 2   &   1 & ⋯ &   8 & 31    &   3 & 30    &   9 & 13    &   2 & 171    & 13    & 12 \\\\\n",
       "\t176 & Cambridgeshire    & 2014 & january & 2014-01-01 &  0 &  0 & 101   & 21    & 10  &   3 & ⋯ &   3 & 47    &   1 & 37    &   2 & 28    &   9 & 103    & 16    & 14 \\\\\n",
       "\t177 & Cheshire          & 2014 & january & 2014-01-01 &  0 &  0 & 170   & 40    & 15  &   1 & ⋯ &   3 & 64    &   3 & 77    &   8 & 50    &   5 & 264    & 16    & 13 \\\\\n",
       "\t178 & Cleveland         & 2014 & january & 2014-01-01 &  2 &  3 & 119   & 44    & 11  &   6 & ⋯ &  13 & 65    &   2 & 123   &  27 & 34    &  14 & 228    & 16    & 3  \\\\\n",
       "\\end{tabular}\n"
      ],
      "text/markdown": [
       "\n",
       "A data.frame: 6 × 29\n",
       "\n",
       "| <!--/--> | x &lt;chr&gt; | year &lt;int&gt; | month &lt;chr&gt; | yearmon &lt;date&gt; | homicide_convictions &lt;int&gt; | homicide_unsuccessful &lt;int&gt; | offences_against_the_person_convictions &lt;chr&gt; | offences_against_the_person_unsuccessful &lt;chr&gt; | sexual_offences_convictions &lt;chr&gt; | sexual_offences_unsuccessful &lt;int&gt; | ⋯ ⋯ | criminal_damage_unsuccessful &lt;int&gt; | drugs_offences_convictions &lt;chr&gt; | drugs_offences_unsuccessful &lt;int&gt; | public_order_offences_convictions &lt;chr&gt; | public_order_offences_unsuccessful &lt;int&gt; | all_other_offences__excluding_motoring__convictions &lt;chr&gt; | all_other_offences__excluding_motoring__unsuccessful &lt;int&gt; | motoring_offences_convictions &lt;chr&gt; | motoring_offences_unsuccessful &lt;chr&gt; | admin_finalised_unsuccessful &lt;chr&gt; |\n",
       "|---|---|---|---|---|---|---|---|---|---|---|---|---|---|---|---|---|---|---|---|---|---|\n",
       "| 173 | National          | 2014 | january | 2014-01-01 | 51 | 11 | 9,087 | 2,930 | 736 | 286 | ⋯ | 472 | 4,988 | 305 | 4,752 | 797 | 3,291 | 586 | 12,945 | 1,466 | 890 |\n",
       "| 174 | Avon and Somerset | 2014 | january | 2014-01-01 |  0 |  0 | 228   | 62    | 35  |  17 | ⋯ |  14 | 148   |   4 | 123   |  28 | 63    |   9 | 256    | 40    | 20  |\n",
       "| 175 | Bedfordshire      | 2014 | january | 2014-01-01 |  0 |  1 | 68    | 29    | 2   |   1 | ⋯ |   8 | 31    |   3 | 30    |   9 | 13    |   2 | 171    | 13    | 12  |\n",
       "| 176 | Cambridgeshire    | 2014 | january | 2014-01-01 |  0 |  0 | 101   | 21    | 10  |   3 | ⋯ |   3 | 47    |   1 | 37    |   2 | 28    |   9 | 103    | 16    | 14  |\n",
       "| 177 | Cheshire          | 2014 | january | 2014-01-01 |  0 |  0 | 170   | 40    | 15  |   1 | ⋯ |   3 | 64    |   3 | 77    |   8 | 50    |   5 | 264    | 16    | 13  |\n",
       "| 178 | Cleveland         | 2014 | january | 2014-01-01 |  2 |  3 | 119   | 44    | 11  |   6 | ⋯ |  13 | 65    |   2 | 123   |  27 | 34    |  14 | 228    | 16    | 3   |\n",
       "\n"
      ],
      "text/plain": [
       "    x                 year month   yearmon    homicide_convictions\n",
       "173 National          2014 january 2014-01-01 51                  \n",
       "174 Avon and Somerset 2014 january 2014-01-01  0                  \n",
       "175 Bedfordshire      2014 january 2014-01-01  0                  \n",
       "176 Cambridgeshire    2014 january 2014-01-01  0                  \n",
       "177 Cheshire          2014 january 2014-01-01  0                  \n",
       "178 Cleveland         2014 january 2014-01-01  2                  \n",
       "    homicide_unsuccessful offences_against_the_person_convictions\n",
       "173 11                    9,087                                  \n",
       "174  0                    228                                    \n",
       "175  1                    68                                     \n",
       "176  0                    101                                    \n",
       "177  0                    170                                    \n",
       "178  3                    119                                    \n",
       "    offences_against_the_person_unsuccessful sexual_offences_convictions\n",
       "173 2,930                                    736                        \n",
       "174 62                                       35                         \n",
       "175 29                                       2                          \n",
       "176 21                                       10                         \n",
       "177 40                                       15                         \n",
       "178 44                                       11                         \n",
       "    sexual_offences_unsuccessful ⋯ criminal_damage_unsuccessful\n",
       "173 286                          ⋯ 472                         \n",
       "174  17                          ⋯  14                         \n",
       "175   1                          ⋯   8                         \n",
       "176   3                          ⋯   3                         \n",
       "177   1                          ⋯   3                         \n",
       "178   6                          ⋯  13                         \n",
       "    drugs_offences_convictions drugs_offences_unsuccessful\n",
       "173 4,988                      305                        \n",
       "174 148                          4                        \n",
       "175 31                           3                        \n",
       "176 47                           1                        \n",
       "177 64                           3                        \n",
       "178 65                           2                        \n",
       "    public_order_offences_convictions public_order_offences_unsuccessful\n",
       "173 4,752                             797                               \n",
       "174 123                                28                               \n",
       "175 30                                  9                               \n",
       "176 37                                  2                               \n",
       "177 77                                  8                               \n",
       "178 123                                27                               \n",
       "    all_other_offences__excluding_motoring__convictions\n",
       "173 3,291                                              \n",
       "174 63                                                 \n",
       "175 13                                                 \n",
       "176 28                                                 \n",
       "177 50                                                 \n",
       "178 34                                                 \n",
       "    all_other_offences__excluding_motoring__unsuccessful\n",
       "173 586                                                 \n",
       "174   9                                                 \n",
       "175   2                                                 \n",
       "176   9                                                 \n",
       "177   5                                                 \n",
       "178  14                                                 \n",
       "    motoring_offences_convictions motoring_offences_unsuccessful\n",
       "173 12,945                        1,466                         \n",
       "174 256                           40                            \n",
       "175 171                           13                            \n",
       "176 103                           16                            \n",
       "177 264                           16                            \n",
       "178 228                           16                            \n",
       "    admin_finalised_unsuccessful\n",
       "173 890                         \n",
       "174 20                          \n",
       "175 12                          \n",
       "176 14                          \n",
       "177 13                          \n",
       "178 3                           "
      ]
     },
     "metadata": {},
     "output_type": "display_data"
    }
   ],
   "source": [
    "head(combined_df)"
   ]
  },
  {
   "cell_type": "code",
   "execution_count": 291,
   "id": "ef81697a",
   "metadata": {},
   "outputs": [],
   "source": [
    "remove_special_characters_and_convert_to_integer <- function(dataframe){\n",
    "  dataframe <- dataframe %>% \n",
    "    mutate_all(funs(gsub(\",\", \"\", .)))\n",
    "  dataframe[,5:ncol(dataframe)] <- sapply(dataframe[,5:ncol(dataframe)], as.integer)\n",
    "  return(dataframe)\n",
    "}"
   ]
  },
  {
   "cell_type": "code",
   "execution_count": 292,
   "id": "ae8c0e55",
   "metadata": {},
   "outputs": [],
   "source": [
    "combined_df <- remove_special_characters_and_convert_to_integer(combined_df)"
   ]
  },
  {
   "cell_type": "code",
   "execution_count": 293,
   "id": "21784fab",
   "metadata": {},
   "outputs": [
    {
     "data": {
      "text/html": [
       "<table class=\"dataframe\">\n",
       "<caption>A data.frame: 6 × 29</caption>\n",
       "<thead>\n",
       "\t<tr><th></th><th scope=col>x</th><th scope=col>year</th><th scope=col>month</th><th scope=col>yearmon</th><th scope=col>homicide_convictions</th><th scope=col>homicide_unsuccessful</th><th scope=col>offences_against_the_person_convictions</th><th scope=col>offences_against_the_person_unsuccessful</th><th scope=col>sexual_offences_convictions</th><th scope=col>sexual_offences_unsuccessful</th><th scope=col>⋯</th><th scope=col>criminal_damage_unsuccessful</th><th scope=col>drugs_offences_convictions</th><th scope=col>drugs_offences_unsuccessful</th><th scope=col>public_order_offences_convictions</th><th scope=col>public_order_offences_unsuccessful</th><th scope=col>all_other_offences__excluding_motoring__convictions</th><th scope=col>all_other_offences__excluding_motoring__unsuccessful</th><th scope=col>motoring_offences_convictions</th><th scope=col>motoring_offences_unsuccessful</th><th scope=col>admin_finalised_unsuccessful</th></tr>\n",
       "\t<tr><th></th><th scope=col>&lt;chr&gt;</th><th scope=col>&lt;chr&gt;</th><th scope=col>&lt;chr&gt;</th><th scope=col>&lt;chr&gt;</th><th scope=col>&lt;int&gt;</th><th scope=col>&lt;int&gt;</th><th scope=col>&lt;int&gt;</th><th scope=col>&lt;int&gt;</th><th scope=col>&lt;int&gt;</th><th scope=col>&lt;int&gt;</th><th scope=col>⋯</th><th scope=col>&lt;int&gt;</th><th scope=col>&lt;int&gt;</th><th scope=col>&lt;int&gt;</th><th scope=col>&lt;int&gt;</th><th scope=col>&lt;int&gt;</th><th scope=col>&lt;int&gt;</th><th scope=col>&lt;int&gt;</th><th scope=col>&lt;int&gt;</th><th scope=col>&lt;int&gt;</th><th scope=col>&lt;int&gt;</th></tr>\n",
       "</thead>\n",
       "<tbody>\n",
       "\t<tr><th scope=row>173</th><td>National         </td><td>2014</td><td>january</td><td>2014-01-01</td><td>51</td><td>11</td><td>9087</td><td>2930</td><td>736</td><td>286</td><td>⋯</td><td>472</td><td>4988</td><td>305</td><td>4752</td><td>797</td><td>3291</td><td>586</td><td>12945</td><td>1466</td><td>890</td></tr>\n",
       "\t<tr><th scope=row>174</th><td>Avon and Somerset</td><td>2014</td><td>january</td><td>2014-01-01</td><td> 0</td><td> 0</td><td> 228</td><td>  62</td><td> 35</td><td> 17</td><td>⋯</td><td> 14</td><td> 148</td><td>  4</td><td> 123</td><td> 28</td><td>  63</td><td>  9</td><td>  256</td><td>  40</td><td> 20</td></tr>\n",
       "\t<tr><th scope=row>175</th><td>Bedfordshire     </td><td>2014</td><td>january</td><td>2014-01-01</td><td> 0</td><td> 1</td><td>  68</td><td>  29</td><td>  2</td><td>  1</td><td>⋯</td><td>  8</td><td>  31</td><td>  3</td><td>  30</td><td>  9</td><td>  13</td><td>  2</td><td>  171</td><td>  13</td><td> 12</td></tr>\n",
       "\t<tr><th scope=row>176</th><td>Cambridgeshire   </td><td>2014</td><td>january</td><td>2014-01-01</td><td> 0</td><td> 0</td><td> 101</td><td>  21</td><td> 10</td><td>  3</td><td>⋯</td><td>  3</td><td>  47</td><td>  1</td><td>  37</td><td>  2</td><td>  28</td><td>  9</td><td>  103</td><td>  16</td><td> 14</td></tr>\n",
       "\t<tr><th scope=row>177</th><td>Cheshire         </td><td>2014</td><td>january</td><td>2014-01-01</td><td> 0</td><td> 0</td><td> 170</td><td>  40</td><td> 15</td><td>  1</td><td>⋯</td><td>  3</td><td>  64</td><td>  3</td><td>  77</td><td>  8</td><td>  50</td><td>  5</td><td>  264</td><td>  16</td><td> 13</td></tr>\n",
       "\t<tr><th scope=row>178</th><td>Cleveland        </td><td>2014</td><td>january</td><td>2014-01-01</td><td> 2</td><td> 3</td><td> 119</td><td>  44</td><td> 11</td><td>  6</td><td>⋯</td><td> 13</td><td>  65</td><td>  2</td><td> 123</td><td> 27</td><td>  34</td><td> 14</td><td>  228</td><td>  16</td><td>  3</td></tr>\n",
       "</tbody>\n",
       "</table>\n"
      ],
      "text/latex": [
       "A data.frame: 6 × 29\n",
       "\\begin{tabular}{r|lllllllllllllllllllll}\n",
       "  & x & year & month & yearmon & homicide\\_convictions & homicide\\_unsuccessful & offences\\_against\\_the\\_person\\_convictions & offences\\_against\\_the\\_person\\_unsuccessful & sexual\\_offences\\_convictions & sexual\\_offences\\_unsuccessful & ⋯ & criminal\\_damage\\_unsuccessful & drugs\\_offences\\_convictions & drugs\\_offences\\_unsuccessful & public\\_order\\_offences\\_convictions & public\\_order\\_offences\\_unsuccessful & all\\_other\\_offences\\_\\_excluding\\_motoring\\_\\_convictions & all\\_other\\_offences\\_\\_excluding\\_motoring\\_\\_unsuccessful & motoring\\_offences\\_convictions & motoring\\_offences\\_unsuccessful & admin\\_finalised\\_unsuccessful\\\\\n",
       "  & <chr> & <chr> & <chr> & <chr> & <int> & <int> & <int> & <int> & <int> & <int> & ⋯ & <int> & <int> & <int> & <int> & <int> & <int> & <int> & <int> & <int> & <int>\\\\\n",
       "\\hline\n",
       "\t173 & National          & 2014 & january & 2014-01-01 & 51 & 11 & 9087 & 2930 & 736 & 286 & ⋯ & 472 & 4988 & 305 & 4752 & 797 & 3291 & 586 & 12945 & 1466 & 890\\\\\n",
       "\t174 & Avon and Somerset & 2014 & january & 2014-01-01 &  0 &  0 &  228 &   62 &  35 &  17 & ⋯ &  14 &  148 &   4 &  123 &  28 &   63 &   9 &   256 &   40 &  20\\\\\n",
       "\t175 & Bedfordshire      & 2014 & january & 2014-01-01 &  0 &  1 &   68 &   29 &   2 &   1 & ⋯ &   8 &   31 &   3 &   30 &   9 &   13 &   2 &   171 &   13 &  12\\\\\n",
       "\t176 & Cambridgeshire    & 2014 & january & 2014-01-01 &  0 &  0 &  101 &   21 &  10 &   3 & ⋯ &   3 &   47 &   1 &   37 &   2 &   28 &   9 &   103 &   16 &  14\\\\\n",
       "\t177 & Cheshire          & 2014 & january & 2014-01-01 &  0 &  0 &  170 &   40 &  15 &   1 & ⋯ &   3 &   64 &   3 &   77 &   8 &   50 &   5 &   264 &   16 &  13\\\\\n",
       "\t178 & Cleveland         & 2014 & january & 2014-01-01 &  2 &  3 &  119 &   44 &  11 &   6 & ⋯ &  13 &   65 &   2 &  123 &  27 &   34 &  14 &   228 &   16 &   3\\\\\n",
       "\\end{tabular}\n"
      ],
      "text/markdown": [
       "\n",
       "A data.frame: 6 × 29\n",
       "\n",
       "| <!--/--> | x &lt;chr&gt; | year &lt;chr&gt; | month &lt;chr&gt; | yearmon &lt;chr&gt; | homicide_convictions &lt;int&gt; | homicide_unsuccessful &lt;int&gt; | offences_against_the_person_convictions &lt;int&gt; | offences_against_the_person_unsuccessful &lt;int&gt; | sexual_offences_convictions &lt;int&gt; | sexual_offences_unsuccessful &lt;int&gt; | ⋯ ⋯ | criminal_damage_unsuccessful &lt;int&gt; | drugs_offences_convictions &lt;int&gt; | drugs_offences_unsuccessful &lt;int&gt; | public_order_offences_convictions &lt;int&gt; | public_order_offences_unsuccessful &lt;int&gt; | all_other_offences__excluding_motoring__convictions &lt;int&gt; | all_other_offences__excluding_motoring__unsuccessful &lt;int&gt; | motoring_offences_convictions &lt;int&gt; | motoring_offences_unsuccessful &lt;int&gt; | admin_finalised_unsuccessful &lt;int&gt; |\n",
       "|---|---|---|---|---|---|---|---|---|---|---|---|---|---|---|---|---|---|---|---|---|---|\n",
       "| 173 | National          | 2014 | january | 2014-01-01 | 51 | 11 | 9087 | 2930 | 736 | 286 | ⋯ | 472 | 4988 | 305 | 4752 | 797 | 3291 | 586 | 12945 | 1466 | 890 |\n",
       "| 174 | Avon and Somerset | 2014 | january | 2014-01-01 |  0 |  0 |  228 |   62 |  35 |  17 | ⋯ |  14 |  148 |   4 |  123 |  28 |   63 |   9 |   256 |   40 |  20 |\n",
       "| 175 | Bedfordshire      | 2014 | january | 2014-01-01 |  0 |  1 |   68 |   29 |   2 |   1 | ⋯ |   8 |   31 |   3 |   30 |   9 |   13 |   2 |   171 |   13 |  12 |\n",
       "| 176 | Cambridgeshire    | 2014 | january | 2014-01-01 |  0 |  0 |  101 |   21 |  10 |   3 | ⋯ |   3 |   47 |   1 |   37 |   2 |   28 |   9 |   103 |   16 |  14 |\n",
       "| 177 | Cheshire          | 2014 | january | 2014-01-01 |  0 |  0 |  170 |   40 |  15 |   1 | ⋯ |   3 |   64 |   3 |   77 |   8 |   50 |   5 |   264 |   16 |  13 |\n",
       "| 178 | Cleveland         | 2014 | january | 2014-01-01 |  2 |  3 |  119 |   44 |  11 |   6 | ⋯ |  13 |   65 |   2 |  123 |  27 |   34 |  14 |   228 |   16 |   3 |\n",
       "\n"
      ],
      "text/plain": [
       "    x                 year month   yearmon    homicide_convictions\n",
       "173 National          2014 january 2014-01-01 51                  \n",
       "174 Avon and Somerset 2014 january 2014-01-01  0                  \n",
       "175 Bedfordshire      2014 january 2014-01-01  0                  \n",
       "176 Cambridgeshire    2014 january 2014-01-01  0                  \n",
       "177 Cheshire          2014 january 2014-01-01  0                  \n",
       "178 Cleveland         2014 january 2014-01-01  2                  \n",
       "    homicide_unsuccessful offences_against_the_person_convictions\n",
       "173 11                    9087                                   \n",
       "174  0                     228                                   \n",
       "175  1                      68                                   \n",
       "176  0                     101                                   \n",
       "177  0                     170                                   \n",
       "178  3                     119                                   \n",
       "    offences_against_the_person_unsuccessful sexual_offences_convictions\n",
       "173 2930                                     736                        \n",
       "174   62                                      35                        \n",
       "175   29                                       2                        \n",
       "176   21                                      10                        \n",
       "177   40                                      15                        \n",
       "178   44                                      11                        \n",
       "    sexual_offences_unsuccessful ⋯ criminal_damage_unsuccessful\n",
       "173 286                          ⋯ 472                         \n",
       "174  17                          ⋯  14                         \n",
       "175   1                          ⋯   8                         \n",
       "176   3                          ⋯   3                         \n",
       "177   1                          ⋯   3                         \n",
       "178   6                          ⋯  13                         \n",
       "    drugs_offences_convictions drugs_offences_unsuccessful\n",
       "173 4988                       305                        \n",
       "174  148                         4                        \n",
       "175   31                         3                        \n",
       "176   47                         1                        \n",
       "177   64                         3                        \n",
       "178   65                         2                        \n",
       "    public_order_offences_convictions public_order_offences_unsuccessful\n",
       "173 4752                              797                               \n",
       "174  123                               28                               \n",
       "175   30                                9                               \n",
       "176   37                                2                               \n",
       "177   77                                8                               \n",
       "178  123                               27                               \n",
       "    all_other_offences__excluding_motoring__convictions\n",
       "173 3291                                               \n",
       "174   63                                               \n",
       "175   13                                               \n",
       "176   28                                               \n",
       "177   50                                               \n",
       "178   34                                               \n",
       "    all_other_offences__excluding_motoring__unsuccessful\n",
       "173 586                                                 \n",
       "174   9                                                 \n",
       "175   2                                                 \n",
       "176   9                                                 \n",
       "177   5                                                 \n",
       "178  14                                                 \n",
       "    motoring_offences_convictions motoring_offences_unsuccessful\n",
       "173 12945                         1466                          \n",
       "174   256                           40                          \n",
       "175   171                           13                          \n",
       "176   103                           16                          \n",
       "177   264                           16                          \n",
       "178   228                           16                          \n",
       "    admin_finalised_unsuccessful\n",
       "173 890                         \n",
       "174  20                         \n",
       "175  12                         \n",
       "176  14                         \n",
       "177  13                         \n",
       "178   3                         "
      ]
     },
     "metadata": {},
     "output_type": "display_data"
    }
   ],
   "source": [
    "head(combined_df)"
   ]
  },
  {
   "cell_type": "code",
   "execution_count": 294,
   "id": "acab5b80",
   "metadata": {},
   "outputs": [
    {
     "data": {
      "text/html": [
       "<style>\n",
       ".list-inline {list-style: none; margin:0; padding: 0}\n",
       ".list-inline>li {display: inline-block}\n",
       ".list-inline>li:not(:last-child)::after {content: \"\\00b7\"; padding: 0 .5ex}\n",
       "</style>\n",
       "<ol class=list-inline><li>'january'</li><li>'february'</li><li>'march'</li><li>'april'</li><li>'may'</li><li>'june'</li><li>'july'</li><li>'august'</li><li>'september'</li><li>'october'</li><li>'november'</li><li>'december'</li><li>'jul'</li><li>'aug'</li><li>'sep'</li><li>'oct'</li><li>'nov'</li><li>'dec'</li><li>'jan'</li><li>'feb'</li><li>'mar'</li></ol>\n"
      ],
      "text/latex": [
       "\\begin{enumerate*}\n",
       "\\item 'january'\n",
       "\\item 'february'\n",
       "\\item 'march'\n",
       "\\item 'april'\n",
       "\\item 'may'\n",
       "\\item 'june'\n",
       "\\item 'july'\n",
       "\\item 'august'\n",
       "\\item 'september'\n",
       "\\item 'october'\n",
       "\\item 'november'\n",
       "\\item 'december'\n",
       "\\item 'jul'\n",
       "\\item 'aug'\n",
       "\\item 'sep'\n",
       "\\item 'oct'\n",
       "\\item 'nov'\n",
       "\\item 'dec'\n",
       "\\item 'jan'\n",
       "\\item 'feb'\n",
       "\\item 'mar'\n",
       "\\end{enumerate*}\n"
      ],
      "text/markdown": [
       "1. 'january'\n",
       "2. 'february'\n",
       "3. 'march'\n",
       "4. 'april'\n",
       "5. 'may'\n",
       "6. 'june'\n",
       "7. 'july'\n",
       "8. 'august'\n",
       "9. 'september'\n",
       "10. 'october'\n",
       "11. 'november'\n",
       "12. 'december'\n",
       "13. 'jul'\n",
       "14. 'aug'\n",
       "15. 'sep'\n",
       "16. 'oct'\n",
       "17. 'nov'\n",
       "18. 'dec'\n",
       "19. 'jan'\n",
       "20. 'feb'\n",
       "21. 'mar'\n",
       "\n",
       "\n"
      ],
      "text/plain": [
       " [1] \"january\"   \"february\"  \"march\"     \"april\"     \"may\"       \"june\"     \n",
       " [7] \"july\"      \"august\"    \"september\" \"october\"   \"november\"  \"december\" \n",
       "[13] \"jul\"       \"aug\"       \"sep\"       \"oct\"       \"nov\"       \"dec\"      \n",
       "[19] \"jan\"       \"feb\"       \"mar\"      "
      ]
     },
     "metadata": {},
     "output_type": "display_data"
    }
   ],
   "source": [
    "unique(combined_df$month)"
   ]
  },
  {
   "cell_type": "code",
   "execution_count": 295,
   "id": "962cbe64",
   "metadata": {},
   "outputs": [],
   "source": [
    "convert_months <- function(df){\n",
    "  df$month <- gsub(\"january\", \"jan\", df$month)\n",
    "  df$month <- gsub(\"february\", \"feb\", df$month)\n",
    "  df$month <- gsub( \"march\", \"mar\",df$month)\n",
    "  df$month <- gsub(\"april\", \"apr\", df$month)\n",
    "  df$month <- gsub( \"may\", \"may\", df$month)\n",
    "  df$month <- gsub(\"june\",\"jun\",  df$month)\n",
    "  df$month <- gsub( \"july\", \"jul\",df$month)\n",
    "  df$month <- gsub(\"august\",\"aug\",  df$month)\n",
    "  df$month <- gsub(\"september\", \"sep\", df$month)\n",
    "  df$month <- gsub( \"october\",\"oct\", df$month)\n",
    "  df$month <- gsub(\"november\", \"nov\", df$month)\n",
    "  df$month <- gsub(\"december\",\"dec\",  df$month)\n",
    "  return(df)\n",
    "}"
   ]
  },
  {
   "cell_type": "code",
   "execution_count": 296,
   "id": "ba616ec1",
   "metadata": {},
   "outputs": [],
   "source": [
    "combined_df <- convert_months(combined_df)"
   ]
  },
  {
   "cell_type": "code",
   "execution_count": 297,
   "id": "8e5de2f6",
   "metadata": {
    "scrolled": true
   },
   "outputs": [
    {
     "data": {
      "text/html": [
       "<table class=\"dataframe\">\n",
       "<caption>A data.frame: 6 × 29</caption>\n",
       "<thead>\n",
       "\t<tr><th></th><th scope=col>x</th><th scope=col>year</th><th scope=col>month</th><th scope=col>yearmon</th><th scope=col>homicide_convictions</th><th scope=col>homicide_unsuccessful</th><th scope=col>offences_against_the_person_convictions</th><th scope=col>offences_against_the_person_unsuccessful</th><th scope=col>sexual_offences_convictions</th><th scope=col>sexual_offences_unsuccessful</th><th scope=col>⋯</th><th scope=col>criminal_damage_unsuccessful</th><th scope=col>drugs_offences_convictions</th><th scope=col>drugs_offences_unsuccessful</th><th scope=col>public_order_offences_convictions</th><th scope=col>public_order_offences_unsuccessful</th><th scope=col>all_other_offences__excluding_motoring__convictions</th><th scope=col>all_other_offences__excluding_motoring__unsuccessful</th><th scope=col>motoring_offences_convictions</th><th scope=col>motoring_offences_unsuccessful</th><th scope=col>admin_finalised_unsuccessful</th></tr>\n",
       "\t<tr><th></th><th scope=col>&lt;chr&gt;</th><th scope=col>&lt;chr&gt;</th><th scope=col>&lt;chr&gt;</th><th scope=col>&lt;chr&gt;</th><th scope=col>&lt;int&gt;</th><th scope=col>&lt;int&gt;</th><th scope=col>&lt;int&gt;</th><th scope=col>&lt;int&gt;</th><th scope=col>&lt;int&gt;</th><th scope=col>&lt;int&gt;</th><th scope=col>⋯</th><th scope=col>&lt;int&gt;</th><th scope=col>&lt;int&gt;</th><th scope=col>&lt;int&gt;</th><th scope=col>&lt;int&gt;</th><th scope=col>&lt;int&gt;</th><th scope=col>&lt;int&gt;</th><th scope=col>&lt;int&gt;</th><th scope=col>&lt;int&gt;</th><th scope=col>&lt;int&gt;</th><th scope=col>&lt;int&gt;</th></tr>\n",
       "</thead>\n",
       "<tbody>\n",
       "\t<tr><th scope=row>173</th><td>National         </td><td>2014</td><td>jan</td><td>2014-01-01</td><td>51</td><td>11</td><td>9087</td><td>2930</td><td>736</td><td>286</td><td>⋯</td><td>472</td><td>4988</td><td>305</td><td>4752</td><td>797</td><td>3291</td><td>586</td><td>12945</td><td>1466</td><td>890</td></tr>\n",
       "\t<tr><th scope=row>174</th><td>Avon and Somerset</td><td>2014</td><td>jan</td><td>2014-01-01</td><td> 0</td><td> 0</td><td> 228</td><td>  62</td><td> 35</td><td> 17</td><td>⋯</td><td> 14</td><td> 148</td><td>  4</td><td> 123</td><td> 28</td><td>  63</td><td>  9</td><td>  256</td><td>  40</td><td> 20</td></tr>\n",
       "\t<tr><th scope=row>175</th><td>Bedfordshire     </td><td>2014</td><td>jan</td><td>2014-01-01</td><td> 0</td><td> 1</td><td>  68</td><td>  29</td><td>  2</td><td>  1</td><td>⋯</td><td>  8</td><td>  31</td><td>  3</td><td>  30</td><td>  9</td><td>  13</td><td>  2</td><td>  171</td><td>  13</td><td> 12</td></tr>\n",
       "\t<tr><th scope=row>176</th><td>Cambridgeshire   </td><td>2014</td><td>jan</td><td>2014-01-01</td><td> 0</td><td> 0</td><td> 101</td><td>  21</td><td> 10</td><td>  3</td><td>⋯</td><td>  3</td><td>  47</td><td>  1</td><td>  37</td><td>  2</td><td>  28</td><td>  9</td><td>  103</td><td>  16</td><td> 14</td></tr>\n",
       "\t<tr><th scope=row>177</th><td>Cheshire         </td><td>2014</td><td>jan</td><td>2014-01-01</td><td> 0</td><td> 0</td><td> 170</td><td>  40</td><td> 15</td><td>  1</td><td>⋯</td><td>  3</td><td>  64</td><td>  3</td><td>  77</td><td>  8</td><td>  50</td><td>  5</td><td>  264</td><td>  16</td><td> 13</td></tr>\n",
       "\t<tr><th scope=row>178</th><td>Cleveland        </td><td>2014</td><td>jan</td><td>2014-01-01</td><td> 2</td><td> 3</td><td> 119</td><td>  44</td><td> 11</td><td>  6</td><td>⋯</td><td> 13</td><td>  65</td><td>  2</td><td> 123</td><td> 27</td><td>  34</td><td> 14</td><td>  228</td><td>  16</td><td>  3</td></tr>\n",
       "</tbody>\n",
       "</table>\n"
      ],
      "text/latex": [
       "A data.frame: 6 × 29\n",
       "\\begin{tabular}{r|lllllllllllllllllllll}\n",
       "  & x & year & month & yearmon & homicide\\_convictions & homicide\\_unsuccessful & offences\\_against\\_the\\_person\\_convictions & offences\\_against\\_the\\_person\\_unsuccessful & sexual\\_offences\\_convictions & sexual\\_offences\\_unsuccessful & ⋯ & criminal\\_damage\\_unsuccessful & drugs\\_offences\\_convictions & drugs\\_offences\\_unsuccessful & public\\_order\\_offences\\_convictions & public\\_order\\_offences\\_unsuccessful & all\\_other\\_offences\\_\\_excluding\\_motoring\\_\\_convictions & all\\_other\\_offences\\_\\_excluding\\_motoring\\_\\_unsuccessful & motoring\\_offences\\_convictions & motoring\\_offences\\_unsuccessful & admin\\_finalised\\_unsuccessful\\\\\n",
       "  & <chr> & <chr> & <chr> & <chr> & <int> & <int> & <int> & <int> & <int> & <int> & ⋯ & <int> & <int> & <int> & <int> & <int> & <int> & <int> & <int> & <int> & <int>\\\\\n",
       "\\hline\n",
       "\t173 & National          & 2014 & jan & 2014-01-01 & 51 & 11 & 9087 & 2930 & 736 & 286 & ⋯ & 472 & 4988 & 305 & 4752 & 797 & 3291 & 586 & 12945 & 1466 & 890\\\\\n",
       "\t174 & Avon and Somerset & 2014 & jan & 2014-01-01 &  0 &  0 &  228 &   62 &  35 &  17 & ⋯ &  14 &  148 &   4 &  123 &  28 &   63 &   9 &   256 &   40 &  20\\\\\n",
       "\t175 & Bedfordshire      & 2014 & jan & 2014-01-01 &  0 &  1 &   68 &   29 &   2 &   1 & ⋯ &   8 &   31 &   3 &   30 &   9 &   13 &   2 &   171 &   13 &  12\\\\\n",
       "\t176 & Cambridgeshire    & 2014 & jan & 2014-01-01 &  0 &  0 &  101 &   21 &  10 &   3 & ⋯ &   3 &   47 &   1 &   37 &   2 &   28 &   9 &   103 &   16 &  14\\\\\n",
       "\t177 & Cheshire          & 2014 & jan & 2014-01-01 &  0 &  0 &  170 &   40 &  15 &   1 & ⋯ &   3 &   64 &   3 &   77 &   8 &   50 &   5 &   264 &   16 &  13\\\\\n",
       "\t178 & Cleveland         & 2014 & jan & 2014-01-01 &  2 &  3 &  119 &   44 &  11 &   6 & ⋯ &  13 &   65 &   2 &  123 &  27 &   34 &  14 &   228 &   16 &   3\\\\\n",
       "\\end{tabular}\n"
      ],
      "text/markdown": [
       "\n",
       "A data.frame: 6 × 29\n",
       "\n",
       "| <!--/--> | x &lt;chr&gt; | year &lt;chr&gt; | month &lt;chr&gt; | yearmon &lt;chr&gt; | homicide_convictions &lt;int&gt; | homicide_unsuccessful &lt;int&gt; | offences_against_the_person_convictions &lt;int&gt; | offences_against_the_person_unsuccessful &lt;int&gt; | sexual_offences_convictions &lt;int&gt; | sexual_offences_unsuccessful &lt;int&gt; | ⋯ ⋯ | criminal_damage_unsuccessful &lt;int&gt; | drugs_offences_convictions &lt;int&gt; | drugs_offences_unsuccessful &lt;int&gt; | public_order_offences_convictions &lt;int&gt; | public_order_offences_unsuccessful &lt;int&gt; | all_other_offences__excluding_motoring__convictions &lt;int&gt; | all_other_offences__excluding_motoring__unsuccessful &lt;int&gt; | motoring_offences_convictions &lt;int&gt; | motoring_offences_unsuccessful &lt;int&gt; | admin_finalised_unsuccessful &lt;int&gt; |\n",
       "|---|---|---|---|---|---|---|---|---|---|---|---|---|---|---|---|---|---|---|---|---|---|\n",
       "| 173 | National          | 2014 | jan | 2014-01-01 | 51 | 11 | 9087 | 2930 | 736 | 286 | ⋯ | 472 | 4988 | 305 | 4752 | 797 | 3291 | 586 | 12945 | 1466 | 890 |\n",
       "| 174 | Avon and Somerset | 2014 | jan | 2014-01-01 |  0 |  0 |  228 |   62 |  35 |  17 | ⋯ |  14 |  148 |   4 |  123 |  28 |   63 |   9 |   256 |   40 |  20 |\n",
       "| 175 | Bedfordshire      | 2014 | jan | 2014-01-01 |  0 |  1 |   68 |   29 |   2 |   1 | ⋯ |   8 |   31 |   3 |   30 |   9 |   13 |   2 |   171 |   13 |  12 |\n",
       "| 176 | Cambridgeshire    | 2014 | jan | 2014-01-01 |  0 |  0 |  101 |   21 |  10 |   3 | ⋯ |   3 |   47 |   1 |   37 |   2 |   28 |   9 |   103 |   16 |  14 |\n",
       "| 177 | Cheshire          | 2014 | jan | 2014-01-01 |  0 |  0 |  170 |   40 |  15 |   1 | ⋯ |   3 |   64 |   3 |   77 |   8 |   50 |   5 |   264 |   16 |  13 |\n",
       "| 178 | Cleveland         | 2014 | jan | 2014-01-01 |  2 |  3 |  119 |   44 |  11 |   6 | ⋯ |  13 |   65 |   2 |  123 |  27 |   34 |  14 |   228 |   16 |   3 |\n",
       "\n"
      ],
      "text/plain": [
       "    x                 year month yearmon    homicide_convictions\n",
       "173 National          2014 jan   2014-01-01 51                  \n",
       "174 Avon and Somerset 2014 jan   2014-01-01  0                  \n",
       "175 Bedfordshire      2014 jan   2014-01-01  0                  \n",
       "176 Cambridgeshire    2014 jan   2014-01-01  0                  \n",
       "177 Cheshire          2014 jan   2014-01-01  0                  \n",
       "178 Cleveland         2014 jan   2014-01-01  2                  \n",
       "    homicide_unsuccessful offences_against_the_person_convictions\n",
       "173 11                    9087                                   \n",
       "174  0                     228                                   \n",
       "175  1                      68                                   \n",
       "176  0                     101                                   \n",
       "177  0                     170                                   \n",
       "178  3                     119                                   \n",
       "    offences_against_the_person_unsuccessful sexual_offences_convictions\n",
       "173 2930                                     736                        \n",
       "174   62                                      35                        \n",
       "175   29                                       2                        \n",
       "176   21                                      10                        \n",
       "177   40                                      15                        \n",
       "178   44                                      11                        \n",
       "    sexual_offences_unsuccessful ⋯ criminal_damage_unsuccessful\n",
       "173 286                          ⋯ 472                         \n",
       "174  17                          ⋯  14                         \n",
       "175   1                          ⋯   8                         \n",
       "176   3                          ⋯   3                         \n",
       "177   1                          ⋯   3                         \n",
       "178   6                          ⋯  13                         \n",
       "    drugs_offences_convictions drugs_offences_unsuccessful\n",
       "173 4988                       305                        \n",
       "174  148                         4                        \n",
       "175   31                         3                        \n",
       "176   47                         1                        \n",
       "177   64                         3                        \n",
       "178   65                         2                        \n",
       "    public_order_offences_convictions public_order_offences_unsuccessful\n",
       "173 4752                              797                               \n",
       "174  123                               28                               \n",
       "175   30                                9                               \n",
       "176   37                                2                               \n",
       "177   77                                8                               \n",
       "178  123                               27                               \n",
       "    all_other_offences__excluding_motoring__convictions\n",
       "173 3291                                               \n",
       "174   63                                               \n",
       "175   13                                               \n",
       "176   28                                               \n",
       "177   50                                               \n",
       "178   34                                               \n",
       "    all_other_offences__excluding_motoring__unsuccessful\n",
       "173 586                                                 \n",
       "174   9                                                 \n",
       "175   2                                                 \n",
       "176   9                                                 \n",
       "177   5                                                 \n",
       "178  14                                                 \n",
       "    motoring_offences_convictions motoring_offences_unsuccessful\n",
       "173 12945                         1466                          \n",
       "174   256                           40                          \n",
       "175   171                           13                          \n",
       "176   103                           16                          \n",
       "177   264                           16                          \n",
       "178   228                           16                          \n",
       "    admin_finalised_unsuccessful\n",
       "173 890                         \n",
       "174  20                         \n",
       "175  12                         \n",
       "176  14                         \n",
       "177  13                         \n",
       "178   3                         "
      ]
     },
     "metadata": {},
     "output_type": "display_data"
    }
   ],
   "source": [
    "head(combined_df)"
   ]
  },
  {
   "cell_type": "code",
   "execution_count": 298,
   "id": "b4620e12",
   "metadata": {},
   "outputs": [],
   "source": [
    "get_missing_months <- function(dataframe){\n",
    "  years <- unique(dataframe$year)\n",
    "  missing_months <- list()\n",
    "  \n",
    "\n",
    "  for (year in years){\n",
    "    months <- unique(dataframe[dataframe$year == year,]$month)\n",
    "    all_months <- c(\"jan\", \"feb\", \"mar\", \"apr\", \"may\", \"jun\", \"jul\", \"aug\", \"sep\", \"oct\", \"nov\", \"dec\")\n",
    "    diff <- setdiff(all_months, months)\n",
    "    missing_months[[year]] <- diff\n",
    "  }\n",
    "  \n",
    "  return(missing_months)\n",
    "}"
   ]
  },
  {
   "cell_type": "code",
   "execution_count": 299,
   "id": "cfb3ef3c",
   "metadata": {},
   "outputs": [
    {
     "data": {
      "text/html": [
       "<dl>\n",
       "\t<dt>$`2014`</dt>\n",
       "\t\t<dd></dd>\n",
       "\t<dt>$`2015`</dt>\n",
       "\t\t<dd>'nov'</dd>\n",
       "\t<dt>$`2016`</dt>\n",
       "\t\t<dd><style>\n",
       ".list-inline {list-style: none; margin:0; padding: 0}\n",
       ".list-inline>li {display: inline-block}\n",
       ".list-inline>li:not(:last-child)::after {content: \"\\00b7\"; padding: 0 .5ex}\n",
       "</style>\n",
       "<ol class=list-inline><li>'feb'</li><li>'mar'</li></ol>\n",
       "</dd>\n",
       "\t<dt>$`2017`</dt>\n",
       "\t\t<dd><style>\n",
       ".list-inline {list-style: none; margin:0; padding: 0}\n",
       ".list-inline>li {display: inline-block}\n",
       ".list-inline>li:not(:last-child)::after {content: \"\\00b7\"; padding: 0 .5ex}\n",
       "</style>\n",
       "<ol class=list-inline><li>'apr'</li><li>'may'</li><li>'jun'</li></ol>\n",
       "</dd>\n",
       "\t<dt>$`2018`</dt>\n",
       "\t\t<dd><style>\n",
       ".list-inline {list-style: none; margin:0; padding: 0}\n",
       ".list-inline>li {display: inline-block}\n",
       ".list-inline>li:not(:last-child)::after {content: \"\\00b7\"; padding: 0 .5ex}\n",
       "</style>\n",
       "<ol class=list-inline><li>'apr'</li><li>'may'</li><li>'jun'</li></ol>\n",
       "</dd>\n",
       "</dl>\n"
      ],
      "text/latex": [
       "\\begin{description}\n",
       "\\item[\\$`2014`] \n",
       "\\item[\\$`2015`] 'nov'\n",
       "\\item[\\$`2016`] \\begin{enumerate*}\n",
       "\\item 'feb'\n",
       "\\item 'mar'\n",
       "\\end{enumerate*}\n",
       "\n",
       "\\item[\\$`2017`] \\begin{enumerate*}\n",
       "\\item 'apr'\n",
       "\\item 'may'\n",
       "\\item 'jun'\n",
       "\\end{enumerate*}\n",
       "\n",
       "\\item[\\$`2018`] \\begin{enumerate*}\n",
       "\\item 'apr'\n",
       "\\item 'may'\n",
       "\\item 'jun'\n",
       "\\end{enumerate*}\n",
       "\n",
       "\\end{description}\n"
      ],
      "text/markdown": [
       "$`2014`\n",
       ":   \n",
       "$`2015`\n",
       ":   'nov'\n",
       "$`2016`\n",
       ":   1. 'feb'\n",
       "2. 'mar'\n",
       "\n",
       "\n",
       "\n",
       "$`2017`\n",
       ":   1. 'apr'\n",
       "2. 'may'\n",
       "3. 'jun'\n",
       "\n",
       "\n",
       "\n",
       "$`2018`\n",
       ":   1. 'apr'\n",
       "2. 'may'\n",
       "3. 'jun'\n",
       "\n",
       "\n",
       "\n",
       "\n",
       "\n"
      ],
      "text/plain": [
       "$`2014`\n",
       "character(0)\n",
       "\n",
       "$`2015`\n",
       "[1] \"nov\"\n",
       "\n",
       "$`2016`\n",
       "[1] \"feb\" \"mar\"\n",
       "\n",
       "$`2017`\n",
       "[1] \"apr\" \"may\" \"jun\"\n",
       "\n",
       "$`2018`\n",
       "[1] \"apr\" \"may\" \"jun\"\n"
      ]
     },
     "metadata": {},
     "output_type": "display_data"
    }
   ],
   "source": [
    "get_missing_months(combined_df)"
   ]
  },
  {
   "cell_type": "code",
   "execution_count": 300,
   "id": "2fbe502e",
   "metadata": {},
   "outputs": [
    {
     "data": {
      "text/html": [
       "<style>\n",
       ".list-inline {list-style: none; margin:0; padding: 0}\n",
       ".list-inline>li {display: inline-block}\n",
       ".list-inline>li:not(:last-child)::after {content: \"\\00b7\"; padding: 0 .5ex}\n",
       "</style>\n",
       "<ol class=list-inline><li>'National'</li><li>'Avon and Somerset'</li><li>'Bedfordshire'</li><li>'Cambridgeshire'</li><li>'Cheshire'</li><li>'Cleveland'</li><li>'Cumbria'</li><li>'Derbyshire'</li><li>'Devon and Cornwall'</li><li>'Dorset'</li><li>'Durham'</li><li>'Dyfed Powys'</li><li>'Essex'</li><li>'Gloucestershire'</li><li>'GreaterManchester'</li><li>'Gwent'</li><li>'Hampshire'</li><li>'Hertfordshire'</li><li>'Humberside'</li><li>'Kent'</li><li>'Lancashire'</li><li>'Leicestershire'</li><li>'Lincolnshire'</li><li>'Merseyside'</li><li>'Metropolitan and City'</li><li>'Norfolk'</li><li>'Northamptonshire'</li><li>'Northumbria'</li><li>'North Wales'</li><li>'North Yorkshire'</li><li>'Nottinghamshire'</li><li>'South Wales'</li><li>'South Yorkshire'</li><li>'Staffordshire'</li><li>'Suffolk'</li><li>'Surrey'</li><li>'Sussex'</li><li>'Thames Valley'</li><li>'Warwickshire'</li><li>'West Mercia'</li><li>'West Midlands'</li><li>'West Yorkshire'</li><li>'Wiltshire'</li></ol>\n"
      ],
      "text/latex": [
       "\\begin{enumerate*}\n",
       "\\item 'National'\n",
       "\\item 'Avon and Somerset'\n",
       "\\item 'Bedfordshire'\n",
       "\\item 'Cambridgeshire'\n",
       "\\item 'Cheshire'\n",
       "\\item 'Cleveland'\n",
       "\\item 'Cumbria'\n",
       "\\item 'Derbyshire'\n",
       "\\item 'Devon and Cornwall'\n",
       "\\item 'Dorset'\n",
       "\\item 'Durham'\n",
       "\\item 'Dyfed Powys'\n",
       "\\item 'Essex'\n",
       "\\item 'Gloucestershire'\n",
       "\\item 'GreaterManchester'\n",
       "\\item 'Gwent'\n",
       "\\item 'Hampshire'\n",
       "\\item 'Hertfordshire'\n",
       "\\item 'Humberside'\n",
       "\\item 'Kent'\n",
       "\\item 'Lancashire'\n",
       "\\item 'Leicestershire'\n",
       "\\item 'Lincolnshire'\n",
       "\\item 'Merseyside'\n",
       "\\item 'Metropolitan and City'\n",
       "\\item 'Norfolk'\n",
       "\\item 'Northamptonshire'\n",
       "\\item 'Northumbria'\n",
       "\\item 'North Wales'\n",
       "\\item 'North Yorkshire'\n",
       "\\item 'Nottinghamshire'\n",
       "\\item 'South Wales'\n",
       "\\item 'South Yorkshire'\n",
       "\\item 'Staffordshire'\n",
       "\\item 'Suffolk'\n",
       "\\item 'Surrey'\n",
       "\\item 'Sussex'\n",
       "\\item 'Thames Valley'\n",
       "\\item 'Warwickshire'\n",
       "\\item 'West Mercia'\n",
       "\\item 'West Midlands'\n",
       "\\item 'West Yorkshire'\n",
       "\\item 'Wiltshire'\n",
       "\\end{enumerate*}\n"
      ],
      "text/markdown": [
       "1. 'National'\n",
       "2. 'Avon and Somerset'\n",
       "3. 'Bedfordshire'\n",
       "4. 'Cambridgeshire'\n",
       "5. 'Cheshire'\n",
       "6. 'Cleveland'\n",
       "7. 'Cumbria'\n",
       "8. 'Derbyshire'\n",
       "9. 'Devon and Cornwall'\n",
       "10. 'Dorset'\n",
       "11. 'Durham'\n",
       "12. 'Dyfed Powys'\n",
       "13. 'Essex'\n",
       "14. 'Gloucestershire'\n",
       "15. 'GreaterManchester'\n",
       "16. 'Gwent'\n",
       "17. 'Hampshire'\n",
       "18. 'Hertfordshire'\n",
       "19. 'Humberside'\n",
       "20. 'Kent'\n",
       "21. 'Lancashire'\n",
       "22. 'Leicestershire'\n",
       "23. 'Lincolnshire'\n",
       "24. 'Merseyside'\n",
       "25. 'Metropolitan and City'\n",
       "26. 'Norfolk'\n",
       "27. 'Northamptonshire'\n",
       "28. 'Northumbria'\n",
       "29. 'North Wales'\n",
       "30. 'North Yorkshire'\n",
       "31. 'Nottinghamshire'\n",
       "32. 'South Wales'\n",
       "33. 'South Yorkshire'\n",
       "34. 'Staffordshire'\n",
       "35. 'Suffolk'\n",
       "36. 'Surrey'\n",
       "37. 'Sussex'\n",
       "38. 'Thames Valley'\n",
       "39. 'Warwickshire'\n",
       "40. 'West Mercia'\n",
       "41. 'West Midlands'\n",
       "42. 'West Yorkshire'\n",
       "43. 'Wiltshire'\n",
       "\n",
       "\n"
      ],
      "text/plain": [
       " [1] \"National\"              \"Avon and Somerset\"     \"Bedfordshire\"         \n",
       " [4] \"Cambridgeshire\"        \"Cheshire\"              \"Cleveland\"            \n",
       " [7] \"Cumbria\"               \"Derbyshire\"            \"Devon and Cornwall\"   \n",
       "[10] \"Dorset\"                \"Durham\"                \"Dyfed Powys\"          \n",
       "[13] \"Essex\"                 \"Gloucestershire\"       \"GreaterManchester\"    \n",
       "[16] \"Gwent\"                 \"Hampshire\"             \"Hertfordshire\"        \n",
       "[19] \"Humberside\"            \"Kent\"                  \"Lancashire\"           \n",
       "[22] \"Leicestershire\"        \"Lincolnshire\"          \"Merseyside\"           \n",
       "[25] \"Metropolitan and City\" \"Norfolk\"               \"Northamptonshire\"     \n",
       "[28] \"Northumbria\"           \"North Wales\"           \"North Yorkshire\"      \n",
       "[31] \"Nottinghamshire\"       \"South Wales\"           \"South Yorkshire\"      \n",
       "[34] \"Staffordshire\"         \"Suffolk\"               \"Surrey\"               \n",
       "[37] \"Sussex\"                \"Thames Valley\"         \"Warwickshire\"         \n",
       "[40] \"West Mercia\"           \"West Midlands\"         \"West Yorkshire\"       \n",
       "[43] \"Wiltshire\"            "
      ]
     },
     "metadata": {},
     "output_type": "display_data"
    }
   ],
   "source": [
    "unique(combined_df$x)"
   ]
  },
  {
   "cell_type": "code",
   "execution_count": 301,
   "id": "327035ad",
   "metadata": {
    "scrolled": true
   },
   "outputs": [],
   "source": [
    "county_region_map <- list(\n",
    "  \"National\" = \"All\",\n",
    "  \"Avon and Somerset\" = \"West\",\n",
    "  \"Bedfordshire\" = \"East\",\n",
    "  \"Cambridgeshire\" = \"East\",\n",
    "  \"Cheshire\" = \"North\",\n",
    "  \"Cleveland\" = \"North\",\n",
    "  \"Cumbria\" = \"North\",\n",
    "  \"Derbyshire\" = \"East\",\n",
    "  \"Devon and Cornwall\" = \"West\",\n",
    "  \"Dorset\" = \"West\",\n",
    "  \"Durham\" = \"North\",\n",
    "  \"Dyfed Powys\" = \"West\",\n",
    "  \"Essex\" = \"East\",\n",
    "  \"Gloucestershire\" = \"West\",\n",
    "  \"GreaterManchester\" = \"North\",\n",
    "  \"Gwent\" = \"West\",\n",
    "  \"Hampshire\" = \"South\",\n",
    "  \"Hertfordshire\" = \"East\",\n",
    "  \"Humberside\" = \"North\",\n",
    "  \"Kent\" = \"South\",\n",
    "  \"Lancashire\" = \"North\",\n",
    "  \"Leicestershire\" = \"East\",\n",
    "  \"Lincolnshire\" = \"East\",\n",
    "  \"Merseyside\" = \"North\",\n",
    "  \"Metropolitan and City\" = \"South\",\n",
    "  \"Norfolk\" = \"East\",\n",
    "  \"Northamptonshire\" = \"East\",\n",
    "  \"Northumbria\" = \"North\",\n",
    "  \"North Wales\" = \"North\",\n",
    "  \"North Yorkshire\" = \"North\",\n",
    "  \"Nottinghamshire\" = \"East\",\n",
    "  \"South Wales\" = \"West\",\n",
    "  \"South Yorkshire\" = \"North\",\n",
    "  \"Staffordshire\" = \"West\",\n",
    "  \"Suffolk\" = \"East\",\n",
    "  \"Surrey\" = \"South\",\n",
    "  \"Sussex\" = \"South\",\n",
    "  \"Thames Valley\" = \"South\",\n",
    "  \"Warwickshire\" = \"West\",\n",
    "  \"West Mercia\" = \"West\",\n",
    "  \"West Midlands\" = \"West\",\n",
    "  \"West Yorkshire\" = \"North\",\n",
    "  \"Wiltshire\" = \"West\"\n",
    ")"
   ]
  },
  {
   "cell_type": "code",
   "execution_count": 302,
   "id": "5a10cfb9",
   "metadata": {
    "scrolled": false
   },
   "outputs": [],
   "source": [
    "label_county_region <- function(df, county_region) {  \n",
    "  region <- c()\n",
    "\n",
    "  for (i in 1:nrow(df)) {\n",
    "    county <- df$x[i]\n",
    "    region[i] <- county_region[[county]]\n",
    "  }\n",
    "  \n",
    "  df$region <- region\n",
    "  \n",
    "  return(df)\n",
    "}"
   ]
  },
  {
   "cell_type": "code",
   "execution_count": 303,
   "id": "2373d3df",
   "metadata": {},
   "outputs": [],
   "source": [
    "combined_df <- label_county_region(combined_df, county_region_map)"
   ]
  },
  {
   "cell_type": "code",
   "execution_count": 304,
   "id": "7fa4d445",
   "metadata": {
    "scrolled": true
   },
   "outputs": [
    {
     "data": {
      "text/html": [
       "<table class=\"dataframe\">\n",
       "<caption>A data.frame: 6 × 30</caption>\n",
       "<thead>\n",
       "\t<tr><th></th><th scope=col>x</th><th scope=col>year</th><th scope=col>month</th><th scope=col>yearmon</th><th scope=col>homicide_convictions</th><th scope=col>homicide_unsuccessful</th><th scope=col>offences_against_the_person_convictions</th><th scope=col>offences_against_the_person_unsuccessful</th><th scope=col>sexual_offences_convictions</th><th scope=col>sexual_offences_unsuccessful</th><th scope=col>⋯</th><th scope=col>drugs_offences_convictions</th><th scope=col>drugs_offences_unsuccessful</th><th scope=col>public_order_offences_convictions</th><th scope=col>public_order_offences_unsuccessful</th><th scope=col>all_other_offences__excluding_motoring__convictions</th><th scope=col>all_other_offences__excluding_motoring__unsuccessful</th><th scope=col>motoring_offences_convictions</th><th scope=col>motoring_offences_unsuccessful</th><th scope=col>admin_finalised_unsuccessful</th><th scope=col>region</th></tr>\n",
       "\t<tr><th></th><th scope=col>&lt;chr&gt;</th><th scope=col>&lt;chr&gt;</th><th scope=col>&lt;chr&gt;</th><th scope=col>&lt;chr&gt;</th><th scope=col>&lt;int&gt;</th><th scope=col>&lt;int&gt;</th><th scope=col>&lt;int&gt;</th><th scope=col>&lt;int&gt;</th><th scope=col>&lt;int&gt;</th><th scope=col>&lt;int&gt;</th><th scope=col>⋯</th><th scope=col>&lt;int&gt;</th><th scope=col>&lt;int&gt;</th><th scope=col>&lt;int&gt;</th><th scope=col>&lt;int&gt;</th><th scope=col>&lt;int&gt;</th><th scope=col>&lt;int&gt;</th><th scope=col>&lt;int&gt;</th><th scope=col>&lt;int&gt;</th><th scope=col>&lt;int&gt;</th><th scope=col>&lt;chr&gt;</th></tr>\n",
       "</thead>\n",
       "<tbody>\n",
       "\t<tr><th scope=row>173</th><td>National         </td><td>2014</td><td>jan</td><td>2014-01-01</td><td>51</td><td>11</td><td>9087</td><td>2930</td><td>736</td><td>286</td><td>⋯</td><td>4988</td><td>305</td><td>4752</td><td>797</td><td>3291</td><td>586</td><td>12945</td><td>1466</td><td>890</td><td>All  </td></tr>\n",
       "\t<tr><th scope=row>174</th><td>Avon and Somerset</td><td>2014</td><td>jan</td><td>2014-01-01</td><td> 0</td><td> 0</td><td> 228</td><td>  62</td><td> 35</td><td> 17</td><td>⋯</td><td> 148</td><td>  4</td><td> 123</td><td> 28</td><td>  63</td><td>  9</td><td>  256</td><td>  40</td><td> 20</td><td>West </td></tr>\n",
       "\t<tr><th scope=row>175</th><td>Bedfordshire     </td><td>2014</td><td>jan</td><td>2014-01-01</td><td> 0</td><td> 1</td><td>  68</td><td>  29</td><td>  2</td><td>  1</td><td>⋯</td><td>  31</td><td>  3</td><td>  30</td><td>  9</td><td>  13</td><td>  2</td><td>  171</td><td>  13</td><td> 12</td><td>East </td></tr>\n",
       "\t<tr><th scope=row>176</th><td>Cambridgeshire   </td><td>2014</td><td>jan</td><td>2014-01-01</td><td> 0</td><td> 0</td><td> 101</td><td>  21</td><td> 10</td><td>  3</td><td>⋯</td><td>  47</td><td>  1</td><td>  37</td><td>  2</td><td>  28</td><td>  9</td><td>  103</td><td>  16</td><td> 14</td><td>East </td></tr>\n",
       "\t<tr><th scope=row>177</th><td>Cheshire         </td><td>2014</td><td>jan</td><td>2014-01-01</td><td> 0</td><td> 0</td><td> 170</td><td>  40</td><td> 15</td><td>  1</td><td>⋯</td><td>  64</td><td>  3</td><td>  77</td><td>  8</td><td>  50</td><td>  5</td><td>  264</td><td>  16</td><td> 13</td><td>North</td></tr>\n",
       "\t<tr><th scope=row>178</th><td>Cleveland        </td><td>2014</td><td>jan</td><td>2014-01-01</td><td> 2</td><td> 3</td><td> 119</td><td>  44</td><td> 11</td><td>  6</td><td>⋯</td><td>  65</td><td>  2</td><td> 123</td><td> 27</td><td>  34</td><td> 14</td><td>  228</td><td>  16</td><td>  3</td><td>North</td></tr>\n",
       "</tbody>\n",
       "</table>\n"
      ],
      "text/latex": [
       "A data.frame: 6 × 30\n",
       "\\begin{tabular}{r|lllllllllllllllllllll}\n",
       "  & x & year & month & yearmon & homicide\\_convictions & homicide\\_unsuccessful & offences\\_against\\_the\\_person\\_convictions & offences\\_against\\_the\\_person\\_unsuccessful & sexual\\_offences\\_convictions & sexual\\_offences\\_unsuccessful & ⋯ & drugs\\_offences\\_convictions & drugs\\_offences\\_unsuccessful & public\\_order\\_offences\\_convictions & public\\_order\\_offences\\_unsuccessful & all\\_other\\_offences\\_\\_excluding\\_motoring\\_\\_convictions & all\\_other\\_offences\\_\\_excluding\\_motoring\\_\\_unsuccessful & motoring\\_offences\\_convictions & motoring\\_offences\\_unsuccessful & admin\\_finalised\\_unsuccessful & region\\\\\n",
       "  & <chr> & <chr> & <chr> & <chr> & <int> & <int> & <int> & <int> & <int> & <int> & ⋯ & <int> & <int> & <int> & <int> & <int> & <int> & <int> & <int> & <int> & <chr>\\\\\n",
       "\\hline\n",
       "\t173 & National          & 2014 & jan & 2014-01-01 & 51 & 11 & 9087 & 2930 & 736 & 286 & ⋯ & 4988 & 305 & 4752 & 797 & 3291 & 586 & 12945 & 1466 & 890 & All  \\\\\n",
       "\t174 & Avon and Somerset & 2014 & jan & 2014-01-01 &  0 &  0 &  228 &   62 &  35 &  17 & ⋯ &  148 &   4 &  123 &  28 &   63 &   9 &   256 &   40 &  20 & West \\\\\n",
       "\t175 & Bedfordshire      & 2014 & jan & 2014-01-01 &  0 &  1 &   68 &   29 &   2 &   1 & ⋯ &   31 &   3 &   30 &   9 &   13 &   2 &   171 &   13 &  12 & East \\\\\n",
       "\t176 & Cambridgeshire    & 2014 & jan & 2014-01-01 &  0 &  0 &  101 &   21 &  10 &   3 & ⋯ &   47 &   1 &   37 &   2 &   28 &   9 &   103 &   16 &  14 & East \\\\\n",
       "\t177 & Cheshire          & 2014 & jan & 2014-01-01 &  0 &  0 &  170 &   40 &  15 &   1 & ⋯ &   64 &   3 &   77 &   8 &   50 &   5 &   264 &   16 &  13 & North\\\\\n",
       "\t178 & Cleveland         & 2014 & jan & 2014-01-01 &  2 &  3 &  119 &   44 &  11 &   6 & ⋯ &   65 &   2 &  123 &  27 &   34 &  14 &   228 &   16 &   3 & North\\\\\n",
       "\\end{tabular}\n"
      ],
      "text/markdown": [
       "\n",
       "A data.frame: 6 × 30\n",
       "\n",
       "| <!--/--> | x &lt;chr&gt; | year &lt;chr&gt; | month &lt;chr&gt; | yearmon &lt;chr&gt; | homicide_convictions &lt;int&gt; | homicide_unsuccessful &lt;int&gt; | offences_against_the_person_convictions &lt;int&gt; | offences_against_the_person_unsuccessful &lt;int&gt; | sexual_offences_convictions &lt;int&gt; | sexual_offences_unsuccessful &lt;int&gt; | ⋯ ⋯ | drugs_offences_convictions &lt;int&gt; | drugs_offences_unsuccessful &lt;int&gt; | public_order_offences_convictions &lt;int&gt; | public_order_offences_unsuccessful &lt;int&gt; | all_other_offences__excluding_motoring__convictions &lt;int&gt; | all_other_offences__excluding_motoring__unsuccessful &lt;int&gt; | motoring_offences_convictions &lt;int&gt; | motoring_offences_unsuccessful &lt;int&gt; | admin_finalised_unsuccessful &lt;int&gt; | region &lt;chr&gt; |\n",
       "|---|---|---|---|---|---|---|---|---|---|---|---|---|---|---|---|---|---|---|---|---|---|\n",
       "| 173 | National          | 2014 | jan | 2014-01-01 | 51 | 11 | 9087 | 2930 | 736 | 286 | ⋯ | 4988 | 305 | 4752 | 797 | 3291 | 586 | 12945 | 1466 | 890 | All   |\n",
       "| 174 | Avon and Somerset | 2014 | jan | 2014-01-01 |  0 |  0 |  228 |   62 |  35 |  17 | ⋯ |  148 |   4 |  123 |  28 |   63 |   9 |   256 |   40 |  20 | West  |\n",
       "| 175 | Bedfordshire      | 2014 | jan | 2014-01-01 |  0 |  1 |   68 |   29 |   2 |   1 | ⋯ |   31 |   3 |   30 |   9 |   13 |   2 |   171 |   13 |  12 | East  |\n",
       "| 176 | Cambridgeshire    | 2014 | jan | 2014-01-01 |  0 |  0 |  101 |   21 |  10 |   3 | ⋯ |   47 |   1 |   37 |   2 |   28 |   9 |   103 |   16 |  14 | East  |\n",
       "| 177 | Cheshire          | 2014 | jan | 2014-01-01 |  0 |  0 |  170 |   40 |  15 |   1 | ⋯ |   64 |   3 |   77 |   8 |   50 |   5 |   264 |   16 |  13 | North |\n",
       "| 178 | Cleveland         | 2014 | jan | 2014-01-01 |  2 |  3 |  119 |   44 |  11 |   6 | ⋯ |   65 |   2 |  123 |  27 |   34 |  14 |   228 |   16 |   3 | North |\n",
       "\n"
      ],
      "text/plain": [
       "    x                 year month yearmon    homicide_convictions\n",
       "173 National          2014 jan   2014-01-01 51                  \n",
       "174 Avon and Somerset 2014 jan   2014-01-01  0                  \n",
       "175 Bedfordshire      2014 jan   2014-01-01  0                  \n",
       "176 Cambridgeshire    2014 jan   2014-01-01  0                  \n",
       "177 Cheshire          2014 jan   2014-01-01  0                  \n",
       "178 Cleveland         2014 jan   2014-01-01  2                  \n",
       "    homicide_unsuccessful offences_against_the_person_convictions\n",
       "173 11                    9087                                   \n",
       "174  0                     228                                   \n",
       "175  1                      68                                   \n",
       "176  0                     101                                   \n",
       "177  0                     170                                   \n",
       "178  3                     119                                   \n",
       "    offences_against_the_person_unsuccessful sexual_offences_convictions\n",
       "173 2930                                     736                        \n",
       "174   62                                      35                        \n",
       "175   29                                       2                        \n",
       "176   21                                      10                        \n",
       "177   40                                      15                        \n",
       "178   44                                      11                        \n",
       "    sexual_offences_unsuccessful ⋯ drugs_offences_convictions\n",
       "173 286                          ⋯ 4988                      \n",
       "174  17                          ⋯  148                      \n",
       "175   1                          ⋯   31                      \n",
       "176   3                          ⋯   47                      \n",
       "177   1                          ⋯   64                      \n",
       "178   6                          ⋯   65                      \n",
       "    drugs_offences_unsuccessful public_order_offences_convictions\n",
       "173 305                         4752                             \n",
       "174   4                          123                             \n",
       "175   3                           30                             \n",
       "176   1                           37                             \n",
       "177   3                           77                             \n",
       "178   2                          123                             \n",
       "    public_order_offences_unsuccessful\n",
       "173 797                               \n",
       "174  28                               \n",
       "175   9                               \n",
       "176   2                               \n",
       "177   8                               \n",
       "178  27                               \n",
       "    all_other_offences__excluding_motoring__convictions\n",
       "173 3291                                               \n",
       "174   63                                               \n",
       "175   13                                               \n",
       "176   28                                               \n",
       "177   50                                               \n",
       "178   34                                               \n",
       "    all_other_offences__excluding_motoring__unsuccessful\n",
       "173 586                                                 \n",
       "174   9                                                 \n",
       "175   2                                                 \n",
       "176   9                                                 \n",
       "177   5                                                 \n",
       "178  14                                                 \n",
       "    motoring_offences_convictions motoring_offences_unsuccessful\n",
       "173 12945                         1466                          \n",
       "174   256                           40                          \n",
       "175   171                           13                          \n",
       "176   103                           16                          \n",
       "177   264                           16                          \n",
       "178   228                           16                          \n",
       "    admin_finalised_unsuccessful region\n",
       "173 890                          All   \n",
       "174  20                          West  \n",
       "175  12                          East  \n",
       "176  14                          East  \n",
       "177  13                          North \n",
       "178   3                          North "
      ]
     },
     "metadata": {},
     "output_type": "display_data"
    }
   ],
   "source": [
    "head(combined_df)"
   ]
  },
  {
   "cell_type": "code",
   "execution_count": 305,
   "id": "637f1798",
   "metadata": {},
   "outputs": [
    {
     "data": {
      "text/html": [
       "<style>\n",
       ".list-inline {list-style: none; margin:0; padding: 0}\n",
       ".list-inline>li {display: inline-block}\n",
       ".list-inline>li:not(:last-child)::after {content: \"\\00b7\"; padding: 0 .5ex}\n",
       "</style>\n",
       "<ol class=list-inline><li>'All'</li><li>'West'</li><li>'East'</li><li>'North'</li><li>'South'</li></ol>\n"
      ],
      "text/latex": [
       "\\begin{enumerate*}\n",
       "\\item 'All'\n",
       "\\item 'West'\n",
       "\\item 'East'\n",
       "\\item 'North'\n",
       "\\item 'South'\n",
       "\\end{enumerate*}\n"
      ],
      "text/markdown": [
       "1. 'All'\n",
       "2. 'West'\n",
       "3. 'East'\n",
       "4. 'North'\n",
       "5. 'South'\n",
       "\n",
       "\n"
      ],
      "text/plain": [
       "[1] \"All\"   \"West\"  \"East\"  \"North\" \"South\""
      ]
     },
     "metadata": {},
     "output_type": "display_data"
    }
   ],
   "source": [
    "unique(combined_df$region)"
   ]
  },
  {
   "cell_type": "code",
   "execution_count": 306,
   "id": "5d8b76b2",
   "metadata": {},
   "outputs": [],
   "source": [
    "move_last_column_to_5th <- function(dataframe) {\n",
    "  ncols <- ncol(dataframe)\n",
    "  region <- dataframe[, ncols]\n",
    "  dataframe <- dataframe[, -ncols]\n",
    "  dataframe <- cbind(dataframe[, 1:4], region, dataframe[, 5:(ncols-1)])\n",
    "  return(dataframe)\n",
    "}"
   ]
  },
  {
   "cell_type": "code",
   "execution_count": 307,
   "id": "28b35ff0",
   "metadata": {},
   "outputs": [],
   "source": [
    "combined_df <- move_last_column_to_5th(combined_df)"
   ]
  },
  {
   "cell_type": "code",
   "execution_count": 308,
   "id": "29d84957",
   "metadata": {
    "scrolled": true
   },
   "outputs": [
    {
     "data": {
      "text/html": [
       "<table class=\"dataframe\">\n",
       "<caption>A data.frame: 6 × 30</caption>\n",
       "<thead>\n",
       "\t<tr><th></th><th scope=col>x</th><th scope=col>year</th><th scope=col>month</th><th scope=col>yearmon</th><th scope=col>region</th><th scope=col>homicide_convictions</th><th scope=col>homicide_unsuccessful</th><th scope=col>offences_against_the_person_convictions</th><th scope=col>offences_against_the_person_unsuccessful</th><th scope=col>sexual_offences_convictions</th><th scope=col>⋯</th><th scope=col>criminal_damage_unsuccessful</th><th scope=col>drugs_offences_convictions</th><th scope=col>drugs_offences_unsuccessful</th><th scope=col>public_order_offences_convictions</th><th scope=col>public_order_offences_unsuccessful</th><th scope=col>all_other_offences__excluding_motoring__convictions</th><th scope=col>all_other_offences__excluding_motoring__unsuccessful</th><th scope=col>motoring_offences_convictions</th><th scope=col>motoring_offences_unsuccessful</th><th scope=col>admin_finalised_unsuccessful</th></tr>\n",
       "\t<tr><th></th><th scope=col>&lt;chr&gt;</th><th scope=col>&lt;chr&gt;</th><th scope=col>&lt;chr&gt;</th><th scope=col>&lt;chr&gt;</th><th scope=col>&lt;chr&gt;</th><th scope=col>&lt;int&gt;</th><th scope=col>&lt;int&gt;</th><th scope=col>&lt;int&gt;</th><th scope=col>&lt;int&gt;</th><th scope=col>&lt;int&gt;</th><th scope=col>⋯</th><th scope=col>&lt;int&gt;</th><th scope=col>&lt;int&gt;</th><th scope=col>&lt;int&gt;</th><th scope=col>&lt;int&gt;</th><th scope=col>&lt;int&gt;</th><th scope=col>&lt;int&gt;</th><th scope=col>&lt;int&gt;</th><th scope=col>&lt;int&gt;</th><th scope=col>&lt;int&gt;</th><th scope=col>&lt;int&gt;</th></tr>\n",
       "</thead>\n",
       "<tbody>\n",
       "\t<tr><th scope=row>173</th><td>National         </td><td>2014</td><td>jan</td><td>2014-01-01</td><td>All  </td><td>51</td><td>11</td><td>9087</td><td>2930</td><td>736</td><td>⋯</td><td>472</td><td>4988</td><td>305</td><td>4752</td><td>797</td><td>3291</td><td>586</td><td>12945</td><td>1466</td><td>890</td></tr>\n",
       "\t<tr><th scope=row>174</th><td>Avon and Somerset</td><td>2014</td><td>jan</td><td>2014-01-01</td><td>West </td><td> 0</td><td> 0</td><td> 228</td><td>  62</td><td> 35</td><td>⋯</td><td> 14</td><td> 148</td><td>  4</td><td> 123</td><td> 28</td><td>  63</td><td>  9</td><td>  256</td><td>  40</td><td> 20</td></tr>\n",
       "\t<tr><th scope=row>175</th><td>Bedfordshire     </td><td>2014</td><td>jan</td><td>2014-01-01</td><td>East </td><td> 0</td><td> 1</td><td>  68</td><td>  29</td><td>  2</td><td>⋯</td><td>  8</td><td>  31</td><td>  3</td><td>  30</td><td>  9</td><td>  13</td><td>  2</td><td>  171</td><td>  13</td><td> 12</td></tr>\n",
       "\t<tr><th scope=row>176</th><td>Cambridgeshire   </td><td>2014</td><td>jan</td><td>2014-01-01</td><td>East </td><td> 0</td><td> 0</td><td> 101</td><td>  21</td><td> 10</td><td>⋯</td><td>  3</td><td>  47</td><td>  1</td><td>  37</td><td>  2</td><td>  28</td><td>  9</td><td>  103</td><td>  16</td><td> 14</td></tr>\n",
       "\t<tr><th scope=row>177</th><td>Cheshire         </td><td>2014</td><td>jan</td><td>2014-01-01</td><td>North</td><td> 0</td><td> 0</td><td> 170</td><td>  40</td><td> 15</td><td>⋯</td><td>  3</td><td>  64</td><td>  3</td><td>  77</td><td>  8</td><td>  50</td><td>  5</td><td>  264</td><td>  16</td><td> 13</td></tr>\n",
       "\t<tr><th scope=row>178</th><td>Cleveland        </td><td>2014</td><td>jan</td><td>2014-01-01</td><td>North</td><td> 2</td><td> 3</td><td> 119</td><td>  44</td><td> 11</td><td>⋯</td><td> 13</td><td>  65</td><td>  2</td><td> 123</td><td> 27</td><td>  34</td><td> 14</td><td>  228</td><td>  16</td><td>  3</td></tr>\n",
       "</tbody>\n",
       "</table>\n"
      ],
      "text/latex": [
       "A data.frame: 6 × 30\n",
       "\\begin{tabular}{r|lllllllllllllllllllll}\n",
       "  & x & year & month & yearmon & region & homicide\\_convictions & homicide\\_unsuccessful & offences\\_against\\_the\\_person\\_convictions & offences\\_against\\_the\\_person\\_unsuccessful & sexual\\_offences\\_convictions & ⋯ & criminal\\_damage\\_unsuccessful & drugs\\_offences\\_convictions & drugs\\_offences\\_unsuccessful & public\\_order\\_offences\\_convictions & public\\_order\\_offences\\_unsuccessful & all\\_other\\_offences\\_\\_excluding\\_motoring\\_\\_convictions & all\\_other\\_offences\\_\\_excluding\\_motoring\\_\\_unsuccessful & motoring\\_offences\\_convictions & motoring\\_offences\\_unsuccessful & admin\\_finalised\\_unsuccessful\\\\\n",
       "  & <chr> & <chr> & <chr> & <chr> & <chr> & <int> & <int> & <int> & <int> & <int> & ⋯ & <int> & <int> & <int> & <int> & <int> & <int> & <int> & <int> & <int> & <int>\\\\\n",
       "\\hline\n",
       "\t173 & National          & 2014 & jan & 2014-01-01 & All   & 51 & 11 & 9087 & 2930 & 736 & ⋯ & 472 & 4988 & 305 & 4752 & 797 & 3291 & 586 & 12945 & 1466 & 890\\\\\n",
       "\t174 & Avon and Somerset & 2014 & jan & 2014-01-01 & West  &  0 &  0 &  228 &   62 &  35 & ⋯ &  14 &  148 &   4 &  123 &  28 &   63 &   9 &   256 &   40 &  20\\\\\n",
       "\t175 & Bedfordshire      & 2014 & jan & 2014-01-01 & East  &  0 &  1 &   68 &   29 &   2 & ⋯ &   8 &   31 &   3 &   30 &   9 &   13 &   2 &   171 &   13 &  12\\\\\n",
       "\t176 & Cambridgeshire    & 2014 & jan & 2014-01-01 & East  &  0 &  0 &  101 &   21 &  10 & ⋯ &   3 &   47 &   1 &   37 &   2 &   28 &   9 &   103 &   16 &  14\\\\\n",
       "\t177 & Cheshire          & 2014 & jan & 2014-01-01 & North &  0 &  0 &  170 &   40 &  15 & ⋯ &   3 &   64 &   3 &   77 &   8 &   50 &   5 &   264 &   16 &  13\\\\\n",
       "\t178 & Cleveland         & 2014 & jan & 2014-01-01 & North &  2 &  3 &  119 &   44 &  11 & ⋯ &  13 &   65 &   2 &  123 &  27 &   34 &  14 &   228 &   16 &   3\\\\\n",
       "\\end{tabular}\n"
      ],
      "text/markdown": [
       "\n",
       "A data.frame: 6 × 30\n",
       "\n",
       "| <!--/--> | x &lt;chr&gt; | year &lt;chr&gt; | month &lt;chr&gt; | yearmon &lt;chr&gt; | region &lt;chr&gt; | homicide_convictions &lt;int&gt; | homicide_unsuccessful &lt;int&gt; | offences_against_the_person_convictions &lt;int&gt; | offences_against_the_person_unsuccessful &lt;int&gt; | sexual_offences_convictions &lt;int&gt; | ⋯ ⋯ | criminal_damage_unsuccessful &lt;int&gt; | drugs_offences_convictions &lt;int&gt; | drugs_offences_unsuccessful &lt;int&gt; | public_order_offences_convictions &lt;int&gt; | public_order_offences_unsuccessful &lt;int&gt; | all_other_offences__excluding_motoring__convictions &lt;int&gt; | all_other_offences__excluding_motoring__unsuccessful &lt;int&gt; | motoring_offences_convictions &lt;int&gt; | motoring_offences_unsuccessful &lt;int&gt; | admin_finalised_unsuccessful &lt;int&gt; |\n",
       "|---|---|---|---|---|---|---|---|---|---|---|---|---|---|---|---|---|---|---|---|---|---|\n",
       "| 173 | National          | 2014 | jan | 2014-01-01 | All   | 51 | 11 | 9087 | 2930 | 736 | ⋯ | 472 | 4988 | 305 | 4752 | 797 | 3291 | 586 | 12945 | 1466 | 890 |\n",
       "| 174 | Avon and Somerset | 2014 | jan | 2014-01-01 | West  |  0 |  0 |  228 |   62 |  35 | ⋯ |  14 |  148 |   4 |  123 |  28 |   63 |   9 |   256 |   40 |  20 |\n",
       "| 175 | Bedfordshire      | 2014 | jan | 2014-01-01 | East  |  0 |  1 |   68 |   29 |   2 | ⋯ |   8 |   31 |   3 |   30 |   9 |   13 |   2 |   171 |   13 |  12 |\n",
       "| 176 | Cambridgeshire    | 2014 | jan | 2014-01-01 | East  |  0 |  0 |  101 |   21 |  10 | ⋯ |   3 |   47 |   1 |   37 |   2 |   28 |   9 |   103 |   16 |  14 |\n",
       "| 177 | Cheshire          | 2014 | jan | 2014-01-01 | North |  0 |  0 |  170 |   40 |  15 | ⋯ |   3 |   64 |   3 |   77 |   8 |   50 |   5 |   264 |   16 |  13 |\n",
       "| 178 | Cleveland         | 2014 | jan | 2014-01-01 | North |  2 |  3 |  119 |   44 |  11 | ⋯ |  13 |   65 |   2 |  123 |  27 |   34 |  14 |   228 |   16 |   3 |\n",
       "\n"
      ],
      "text/plain": [
       "    x                 year month yearmon    region homicide_convictions\n",
       "173 National          2014 jan   2014-01-01 All    51                  \n",
       "174 Avon and Somerset 2014 jan   2014-01-01 West    0                  \n",
       "175 Bedfordshire      2014 jan   2014-01-01 East    0                  \n",
       "176 Cambridgeshire    2014 jan   2014-01-01 East    0                  \n",
       "177 Cheshire          2014 jan   2014-01-01 North   0                  \n",
       "178 Cleveland         2014 jan   2014-01-01 North   2                  \n",
       "    homicide_unsuccessful offences_against_the_person_convictions\n",
       "173 11                    9087                                   \n",
       "174  0                     228                                   \n",
       "175  1                      68                                   \n",
       "176  0                     101                                   \n",
       "177  0                     170                                   \n",
       "178  3                     119                                   \n",
       "    offences_against_the_person_unsuccessful sexual_offences_convictions ⋯\n",
       "173 2930                                     736                         ⋯\n",
       "174   62                                      35                         ⋯\n",
       "175   29                                       2                         ⋯\n",
       "176   21                                      10                         ⋯\n",
       "177   40                                      15                         ⋯\n",
       "178   44                                      11                         ⋯\n",
       "    criminal_damage_unsuccessful drugs_offences_convictions\n",
       "173 472                          4988                      \n",
       "174  14                           148                      \n",
       "175   8                            31                      \n",
       "176   3                            47                      \n",
       "177   3                            64                      \n",
       "178  13                            65                      \n",
       "    drugs_offences_unsuccessful public_order_offences_convictions\n",
       "173 305                         4752                             \n",
       "174   4                          123                             \n",
       "175   3                           30                             \n",
       "176   1                           37                             \n",
       "177   3                           77                             \n",
       "178   2                          123                             \n",
       "    public_order_offences_unsuccessful\n",
       "173 797                               \n",
       "174  28                               \n",
       "175   9                               \n",
       "176   2                               \n",
       "177   8                               \n",
       "178  27                               \n",
       "    all_other_offences__excluding_motoring__convictions\n",
       "173 3291                                               \n",
       "174   63                                               \n",
       "175   13                                               \n",
       "176   28                                               \n",
       "177   50                                               \n",
       "178   34                                               \n",
       "    all_other_offences__excluding_motoring__unsuccessful\n",
       "173 586                                                 \n",
       "174   9                                                 \n",
       "175   2                                                 \n",
       "176   9                                                 \n",
       "177   5                                                 \n",
       "178  14                                                 \n",
       "    motoring_offences_convictions motoring_offences_unsuccessful\n",
       "173 12945                         1466                          \n",
       "174   256                           40                          \n",
       "175   171                           13                          \n",
       "176   103                           16                          \n",
       "177   264                           16                          \n",
       "178   228                           16                          \n",
       "    admin_finalised_unsuccessful\n",
       "173 890                         \n",
       "174  20                         \n",
       "175  12                         \n",
       "176  14                         \n",
       "177  13                         \n",
       "178   3                         "
      ]
     },
     "metadata": {},
     "output_type": "display_data"
    }
   ],
   "source": [
    "head(combined_df)"
   ]
  },
  {
   "cell_type": "code",
   "execution_count": 309,
   "id": "18d607c4",
   "metadata": {},
   "outputs": [],
   "source": [
    "names(combined_df)[names(combined_df) == \"x\"] <- \"county\""
   ]
  },
  {
   "cell_type": "code",
   "execution_count": 317,
   "id": "3ca57074",
   "metadata": {},
   "outputs": [],
   "source": [
    "rename_conviction_columns <- function(dataframe){\n",
    "  col_names <- colnames(dataframe)\n",
    "  for (i in 1:length(col_names)){\n",
    "    if (grepl(\"_convictions\", col_names[i])){\n",
    "      names(dataframe)[names(dataframe) == col_names[i]] <- gsub(\"_convictions\", \"\" ,col_names[i])\n",
    "    }else{\n",
    "      names(dataframe)[names(dataframe) == col_names[i]] <- gsub(\"_unsuccessful\", \"_us\" ,col_names[i])\n",
    "    }\n",
    "  }\n",
    "  return(dataframe)\n",
    "}"
   ]
  },
  {
   "cell_type": "code",
   "execution_count": 318,
   "id": "0b84187b",
   "metadata": {
    "scrolled": true
   },
   "outputs": [],
   "source": [
    "combined_df <- rename_conviction_columns(combined_df)"
   ]
  },
  {
   "cell_type": "code",
   "execution_count": 319,
   "id": "2da88af5",
   "metadata": {},
   "outputs": [
    {
     "data": {
      "text/html": [
       "<table class=\"dataframe\">\n",
       "<caption>A data.frame: 6 × 30</caption>\n",
       "<thead>\n",
       "\t<tr><th></th><th scope=col>county</th><th scope=col>year</th><th scope=col>month</th><th scope=col>yearmon</th><th scope=col>region</th><th scope=col>homicide</th><th scope=col>homicide_us</th><th scope=col>offences_against_the_person</th><th scope=col>offences_against_the_person_us</th><th scope=col>sexual_offences</th><th scope=col>⋯</th><th scope=col>criminal_damage_us</th><th scope=col>drugs_offences</th><th scope=col>drugs_offences_us</th><th scope=col>public_order_offences</th><th scope=col>public_order_offences_us</th><th scope=col>all_other_offences__excluding_motoring_</th><th scope=col>all_other_offences__excluding_motoring__us</th><th scope=col>motoring_offences</th><th scope=col>motoring_offences_us</th><th scope=col>admin_finalised_us</th></tr>\n",
       "\t<tr><th></th><th scope=col>&lt;chr&gt;</th><th scope=col>&lt;chr&gt;</th><th scope=col>&lt;chr&gt;</th><th scope=col>&lt;chr&gt;</th><th scope=col>&lt;chr&gt;</th><th scope=col>&lt;int&gt;</th><th scope=col>&lt;int&gt;</th><th scope=col>&lt;int&gt;</th><th scope=col>&lt;int&gt;</th><th scope=col>&lt;int&gt;</th><th scope=col>⋯</th><th scope=col>&lt;int&gt;</th><th scope=col>&lt;int&gt;</th><th scope=col>&lt;int&gt;</th><th scope=col>&lt;int&gt;</th><th scope=col>&lt;int&gt;</th><th scope=col>&lt;int&gt;</th><th scope=col>&lt;int&gt;</th><th scope=col>&lt;int&gt;</th><th scope=col>&lt;int&gt;</th><th scope=col>&lt;int&gt;</th></tr>\n",
       "</thead>\n",
       "<tbody>\n",
       "\t<tr><th scope=row>173</th><td>National         </td><td>2014</td><td>jan</td><td>2014-01-01</td><td>All  </td><td>51</td><td>11</td><td>9087</td><td>2930</td><td>736</td><td>⋯</td><td>472</td><td>4988</td><td>305</td><td>4752</td><td>797</td><td>3291</td><td>586</td><td>12945</td><td>1466</td><td>890</td></tr>\n",
       "\t<tr><th scope=row>174</th><td>Avon and Somerset</td><td>2014</td><td>jan</td><td>2014-01-01</td><td>West </td><td> 0</td><td> 0</td><td> 228</td><td>  62</td><td> 35</td><td>⋯</td><td> 14</td><td> 148</td><td>  4</td><td> 123</td><td> 28</td><td>  63</td><td>  9</td><td>  256</td><td>  40</td><td> 20</td></tr>\n",
       "\t<tr><th scope=row>175</th><td>Bedfordshire     </td><td>2014</td><td>jan</td><td>2014-01-01</td><td>East </td><td> 0</td><td> 1</td><td>  68</td><td>  29</td><td>  2</td><td>⋯</td><td>  8</td><td>  31</td><td>  3</td><td>  30</td><td>  9</td><td>  13</td><td>  2</td><td>  171</td><td>  13</td><td> 12</td></tr>\n",
       "\t<tr><th scope=row>176</th><td>Cambridgeshire   </td><td>2014</td><td>jan</td><td>2014-01-01</td><td>East </td><td> 0</td><td> 0</td><td> 101</td><td>  21</td><td> 10</td><td>⋯</td><td>  3</td><td>  47</td><td>  1</td><td>  37</td><td>  2</td><td>  28</td><td>  9</td><td>  103</td><td>  16</td><td> 14</td></tr>\n",
       "\t<tr><th scope=row>177</th><td>Cheshire         </td><td>2014</td><td>jan</td><td>2014-01-01</td><td>North</td><td> 0</td><td> 0</td><td> 170</td><td>  40</td><td> 15</td><td>⋯</td><td>  3</td><td>  64</td><td>  3</td><td>  77</td><td>  8</td><td>  50</td><td>  5</td><td>  264</td><td>  16</td><td> 13</td></tr>\n",
       "\t<tr><th scope=row>178</th><td>Cleveland        </td><td>2014</td><td>jan</td><td>2014-01-01</td><td>North</td><td> 2</td><td> 3</td><td> 119</td><td>  44</td><td> 11</td><td>⋯</td><td> 13</td><td>  65</td><td>  2</td><td> 123</td><td> 27</td><td>  34</td><td> 14</td><td>  228</td><td>  16</td><td>  3</td></tr>\n",
       "</tbody>\n",
       "</table>\n"
      ],
      "text/latex": [
       "A data.frame: 6 × 30\n",
       "\\begin{tabular}{r|lllllllllllllllllllll}\n",
       "  & county & year & month & yearmon & region & homicide & homicide\\_us & offences\\_against\\_the\\_person & offences\\_against\\_the\\_person\\_us & sexual\\_offences & ⋯ & criminal\\_damage\\_us & drugs\\_offences & drugs\\_offences\\_us & public\\_order\\_offences & public\\_order\\_offences\\_us & all\\_other\\_offences\\_\\_excluding\\_motoring\\_ & all\\_other\\_offences\\_\\_excluding\\_motoring\\_\\_us & motoring\\_offences & motoring\\_offences\\_us & admin\\_finalised\\_us\\\\\n",
       "  & <chr> & <chr> & <chr> & <chr> & <chr> & <int> & <int> & <int> & <int> & <int> & ⋯ & <int> & <int> & <int> & <int> & <int> & <int> & <int> & <int> & <int> & <int>\\\\\n",
       "\\hline\n",
       "\t173 & National          & 2014 & jan & 2014-01-01 & All   & 51 & 11 & 9087 & 2930 & 736 & ⋯ & 472 & 4988 & 305 & 4752 & 797 & 3291 & 586 & 12945 & 1466 & 890\\\\\n",
       "\t174 & Avon and Somerset & 2014 & jan & 2014-01-01 & West  &  0 &  0 &  228 &   62 &  35 & ⋯ &  14 &  148 &   4 &  123 &  28 &   63 &   9 &   256 &   40 &  20\\\\\n",
       "\t175 & Bedfordshire      & 2014 & jan & 2014-01-01 & East  &  0 &  1 &   68 &   29 &   2 & ⋯ &   8 &   31 &   3 &   30 &   9 &   13 &   2 &   171 &   13 &  12\\\\\n",
       "\t176 & Cambridgeshire    & 2014 & jan & 2014-01-01 & East  &  0 &  0 &  101 &   21 &  10 & ⋯ &   3 &   47 &   1 &   37 &   2 &   28 &   9 &   103 &   16 &  14\\\\\n",
       "\t177 & Cheshire          & 2014 & jan & 2014-01-01 & North &  0 &  0 &  170 &   40 &  15 & ⋯ &   3 &   64 &   3 &   77 &   8 &   50 &   5 &   264 &   16 &  13\\\\\n",
       "\t178 & Cleveland         & 2014 & jan & 2014-01-01 & North &  2 &  3 &  119 &   44 &  11 & ⋯ &  13 &   65 &   2 &  123 &  27 &   34 &  14 &   228 &   16 &   3\\\\\n",
       "\\end{tabular}\n"
      ],
      "text/markdown": [
       "\n",
       "A data.frame: 6 × 30\n",
       "\n",
       "| <!--/--> | county &lt;chr&gt; | year &lt;chr&gt; | month &lt;chr&gt; | yearmon &lt;chr&gt; | region &lt;chr&gt; | homicide &lt;int&gt; | homicide_us &lt;int&gt; | offences_against_the_person &lt;int&gt; | offences_against_the_person_us &lt;int&gt; | sexual_offences &lt;int&gt; | ⋯ ⋯ | criminal_damage_us &lt;int&gt; | drugs_offences &lt;int&gt; | drugs_offences_us &lt;int&gt; | public_order_offences &lt;int&gt; | public_order_offences_us &lt;int&gt; | all_other_offences__excluding_motoring_ &lt;int&gt; | all_other_offences__excluding_motoring__us &lt;int&gt; | motoring_offences &lt;int&gt; | motoring_offences_us &lt;int&gt; | admin_finalised_us &lt;int&gt; |\n",
       "|---|---|---|---|---|---|---|---|---|---|---|---|---|---|---|---|---|---|---|---|---|---|\n",
       "| 173 | National          | 2014 | jan | 2014-01-01 | All   | 51 | 11 | 9087 | 2930 | 736 | ⋯ | 472 | 4988 | 305 | 4752 | 797 | 3291 | 586 | 12945 | 1466 | 890 |\n",
       "| 174 | Avon and Somerset | 2014 | jan | 2014-01-01 | West  |  0 |  0 |  228 |   62 |  35 | ⋯ |  14 |  148 |   4 |  123 |  28 |   63 |   9 |   256 |   40 |  20 |\n",
       "| 175 | Bedfordshire      | 2014 | jan | 2014-01-01 | East  |  0 |  1 |   68 |   29 |   2 | ⋯ |   8 |   31 |   3 |   30 |   9 |   13 |   2 |   171 |   13 |  12 |\n",
       "| 176 | Cambridgeshire    | 2014 | jan | 2014-01-01 | East  |  0 |  0 |  101 |   21 |  10 | ⋯ |   3 |   47 |   1 |   37 |   2 |   28 |   9 |   103 |   16 |  14 |\n",
       "| 177 | Cheshire          | 2014 | jan | 2014-01-01 | North |  0 |  0 |  170 |   40 |  15 | ⋯ |   3 |   64 |   3 |   77 |   8 |   50 |   5 |   264 |   16 |  13 |\n",
       "| 178 | Cleveland         | 2014 | jan | 2014-01-01 | North |  2 |  3 |  119 |   44 |  11 | ⋯ |  13 |   65 |   2 |  123 |  27 |   34 |  14 |   228 |   16 |   3 |\n",
       "\n"
      ],
      "text/plain": [
       "    county            year month yearmon    region homicide homicide_us\n",
       "173 National          2014 jan   2014-01-01 All    51       11         \n",
       "174 Avon and Somerset 2014 jan   2014-01-01 West    0        0         \n",
       "175 Bedfordshire      2014 jan   2014-01-01 East    0        1         \n",
       "176 Cambridgeshire    2014 jan   2014-01-01 East    0        0         \n",
       "177 Cheshire          2014 jan   2014-01-01 North   0        0         \n",
       "178 Cleveland         2014 jan   2014-01-01 North   2        3         \n",
       "    offences_against_the_person offences_against_the_person_us sexual_offences\n",
       "173 9087                        2930                           736            \n",
       "174  228                          62                            35            \n",
       "175   68                          29                             2            \n",
       "176  101                          21                            10            \n",
       "177  170                          40                            15            \n",
       "178  119                          44                            11            \n",
       "    ⋯ criminal_damage_us drugs_offences drugs_offences_us public_order_offences\n",
       "173 ⋯ 472                4988           305               4752                 \n",
       "174 ⋯  14                 148             4                123                 \n",
       "175 ⋯   8                  31             3                 30                 \n",
       "176 ⋯   3                  47             1                 37                 \n",
       "177 ⋯   3                  64             3                 77                 \n",
       "178 ⋯  13                  65             2                123                 \n",
       "    public_order_offences_us all_other_offences__excluding_motoring_\n",
       "173 797                      3291                                   \n",
       "174  28                        63                                   \n",
       "175   9                        13                                   \n",
       "176   2                        28                                   \n",
       "177   8                        50                                   \n",
       "178  27                        34                                   \n",
       "    all_other_offences__excluding_motoring__us motoring_offences\n",
       "173 586                                        12945            \n",
       "174   9                                          256            \n",
       "175   2                                          171            \n",
       "176   9                                          103            \n",
       "177   5                                          264            \n",
       "178  14                                          228            \n",
       "    motoring_offences_us admin_finalised_us\n",
       "173 1466                 890               \n",
       "174   40                  20               \n",
       "175   13                  12               \n",
       "176   16                  14               \n",
       "177   16                  13               \n",
       "178   16                   3               "
      ]
     },
     "metadata": {},
     "output_type": "display_data"
    }
   ],
   "source": [
    "head(combined_df)"
   ]
  },
  {
   "cell_type": "code",
   "execution_count": null,
   "id": "c19e0333",
   "metadata": {},
   "outputs": [],
   "source": [
    "glimpse(combined_df)"
   ]
  },
  {
   "cell_type": "code",
   "execution_count": null,
   "id": "34c2ca25",
   "metadata": {},
   "outputs": [],
   "source": [
    "vis_miss(combined_df)"
   ]
  },
  {
   "cell_type": "code",
   "execution_count": null,
   "id": "918e6c30",
   "metadata": {},
   "outputs": [],
   "source": [
    "vis_dat(combined_df)"
   ]
  },
  {
   "cell_type": "code",
   "execution_count": null,
   "id": "3b282062",
   "metadata": {},
   "outputs": [],
   "source": [
    "write.csv(combined_df, \"dataset/cleaned-data.csv\", row.names=FALSE)"
   ]
  },
  {
   "cell_type": "markdown",
   "id": "46055f9e",
   "metadata": {},
   "source": [
    "# Descriptive Analytics"
   ]
  },
  {
   "cell_type": "code",
   "execution_count": null,
   "id": "a41a0c84",
   "metadata": {},
   "outputs": [],
   "source": []
  },
  {
   "cell_type": "markdown",
   "id": "367a29d1",
   "metadata": {},
   "source": [
    "## Attributes Analysis"
   ]
  },
  {
   "cell_type": "code",
   "execution_count": null,
   "id": "93e6d417",
   "metadata": {},
   "outputs": [],
   "source": [
    "print_summary <- function(dataframe){\n",
    "  for (i in colnames(dataframe)){\n",
    "    print(i)\n",
    "    print(summary(dataframe[,i]))\n",
    "  }\n",
    "}"
   ]
  },
  {
   "cell_type": "code",
   "execution_count": null,
   "id": "1f660fa4",
   "metadata": {},
   "outputs": [],
   "source": [
    "print_summary(combined_df)"
   ]
  },
  {
   "cell_type": "markdown",
   "id": "af991222",
   "metadata": {},
   "source": [
    "## Analysis dependent on Regions"
   ]
  },
  {
   "cell_type": "code",
   "execution_count": null,
   "id": "e9e909b9",
   "metadata": {},
   "outputs": [],
   "source": [
    "group_by_region <- function(dataframe){\n",
    "  dataframe %>%\n",
    "    group_by(region)\n",
    "}"
   ]
  },
  {
   "cell_type": "code",
   "execution_count": null,
   "id": "8d8bf34f",
   "metadata": {
    "scrolled": true
   },
   "outputs": [],
   "source": [
    "group_by_region(combined_df)"
   ]
  },
  {
   "cell_type": "code",
   "execution_count": null,
   "id": "58794586",
   "metadata": {},
   "outputs": [],
   "source": []
  },
  {
   "cell_type": "markdown",
   "id": "8d84d6fd",
   "metadata": {},
   "source": [
    "## Analysis dependent on County"
   ]
  },
  {
   "cell_type": "code",
   "execution_count": null,
   "id": "70b0ab65",
   "metadata": {},
   "outputs": [],
   "source": []
  },
  {
   "cell_type": "markdown",
   "id": "99971370",
   "metadata": {},
   "source": [
    "## Analysis dependent on Years & Months"
   ]
  },
  {
   "cell_type": "code",
   "execution_count": null,
   "id": "bfb67e80",
   "metadata": {},
   "outputs": [],
   "source": []
  },
  {
   "cell_type": "markdown",
   "id": "3374e6a2",
   "metadata": {},
   "source": [
    "## Analysis between Crime Types"
   ]
  },
  {
   "cell_type": "code",
   "execution_count": null,
   "id": "bc88b14f",
   "metadata": {},
   "outputs": [],
   "source": []
  },
  {
   "cell_type": "code",
   "execution_count": null,
   "id": "cedf39ce",
   "metadata": {},
   "outputs": [],
   "source": [
    "plot_histograms_for_all_numeric_columns <- function(dataframe){\n",
    "  for (i in 1:ncol(dataframe)){\n",
    "    if(is.numeric(dataframe[,i])){\n",
    "      hist(dataframe[,i], main = colnames(dataframe)[i])\n",
    "    }\n",
    "  }\n",
    "}"
   ]
  },
  {
   "cell_type": "code",
   "execution_count": null,
   "id": "1e58678b",
   "metadata": {
    "scrolled": true
   },
   "outputs": [],
   "source": [
    "plot_histograms_for_all_numeric_columns(df)"
   ]
  },
  {
   "cell_type": "code",
   "execution_count": null,
   "id": "919d0865",
   "metadata": {},
   "outputs": [],
   "source": [
    "plot_graphs_for_all_columns_with_yearmon <- function(dataframe){\n",
    "  for (i in 1:ncol(dataframe)){\n",
    "    if (is.numeric(dataframe[,i])){\n",
    "      plot(dataframe$year, dataframe[,i], type=\"l\", main=colnames(dataframe)[i])\n",
    "    }\n",
    "  }\n",
    "}"
   ]
  },
  {
   "cell_type": "code",
   "execution_count": null,
   "id": "a5e24e02",
   "metadata": {
    "scrolled": true
   },
   "outputs": [],
   "source": [
    "plot_graphs_for_all_columns_with_yearmon(df)"
   ]
  },
  {
   "cell_type": "markdown",
   "id": "f26d715c",
   "metadata": {},
   "source": [
    "## Correlation"
   ]
  },
  {
   "cell_type": "code",
   "execution_count": null,
   "id": "63e89adb",
   "metadata": {},
   "outputs": [],
   "source": [
    "corr_matrix_graph <- function(dataframe){\n",
    "  num_cols <- sapply(dataframe, is.numeric)\n",
    "  corr_matrix <- cor(dataframe[,num_cols])\n",
    "  corrplot(corr_matrix, type = \"upper\", order = \"hclust\", tl.cex = 0.7, tl.col = \"black\", is.corr = TRUE, mar = c(0, 0, 0, 0))\n",
    "}"
   ]
  },
  {
   "cell_type": "code",
   "execution_count": null,
   "id": "529fc914",
   "metadata": {
    "scrolled": false
   },
   "outputs": [],
   "source": [
    "corr_matrix_graph(df)"
   ]
  },
  {
   "cell_type": "markdown",
   "id": "77b3ebfb",
   "metadata": {},
   "source": [
    "# Covarince"
   ]
  },
  {
   "cell_type": "code",
   "execution_count": null,
   "id": "d68a44f3",
   "metadata": {},
   "outputs": [],
   "source": [
    "cov_matrix_graph <- function(dataframe){\n",
    "  num_cols <- sapply(dataframe, is.numeric)\n",
    "  num_cols <- names(num_cols[num_cols])\n",
    "  cov_matrix <- cov(dataframe[,num_cols])\n",
    "  corrplot(cov_matrix, type = \"upper\", order = \"hclust\", tl.cex = 0.7, tl.col = \"black\", is.corr = FALSE, mar = c(0, 0, 0, 0))\n",
    "}"
   ]
  },
  {
   "cell_type": "code",
   "execution_count": null,
   "id": "b601374c",
   "metadata": {
    "scrolled": true
   },
   "outputs": [],
   "source": [
    "cov_matrix_graph(df)"
   ]
  },
  {
   "cell_type": "markdown",
   "id": "10b58ee6",
   "metadata": {},
   "source": [
    "# Predictive Analytics"
   ]
  },
  {
   "cell_type": "markdown",
   "id": "3b2bae00",
   "metadata": {},
   "source": [
    "-- The rate of un-succesful crimes is increasing or decreasing every year, which imposes either the courst system is gettng better or police is geeting better.\n",
    "\n",
    "-- A, B region has more crimes than C, D region.\n",
    "\n",
    "-- The number of crimes increase by the end of the year as compared to the start of the year.\n",
    "\n",
    "-- "
   ]
  },
  {
   "cell_type": "markdown",
   "id": "78ca8acc",
   "metadata": {},
   "source": [
    "## Linear Regression"
   ]
  },
  {
   "cell_type": "markdown",
   "id": "f92b5e16",
   "metadata": {},
   "source": [
    "## Clustering"
   ]
  },
  {
   "cell_type": "markdown",
   "id": "f9d0dbc6",
   "metadata": {},
   "source": [
    "## Classification"
   ]
  },
  {
   "cell_type": "markdown",
   "id": "9c4a1403",
   "metadata": {},
   "source": [
    "# Prescriptive Analytics"
   ]
  },
  {
   "cell_type": "code",
   "execution_count": null,
   "id": "686de5df",
   "metadata": {},
   "outputs": [],
   "source": [
    "-- The number of crimes are increasing every year."
   ]
  },
  {
   "cell_type": "markdown",
   "id": "f96f1c70",
   "metadata": {},
   "source": [
    "## Time Series Forecasting"
   ]
  },
  {
   "cell_type": "markdown",
   "id": "6c6a2332",
   "metadata": {},
   "source": [
    "Suggesting any particular month to look out for specific crime peaks and telling which ones could go down."
   ]
  }
 ],
 "metadata": {
  "kernelspec": {
   "display_name": "R",
   "language": "R",
   "name": "ir"
  },
  "language_info": {
   "codemirror_mode": "r",
   "file_extension": ".r",
   "mimetype": "text/x-r-source",
   "name": "R",
   "pygments_lexer": "r",
   "version": "4.2.2"
  }
 },
 "nbformat": 4,
 "nbformat_minor": 5
}
